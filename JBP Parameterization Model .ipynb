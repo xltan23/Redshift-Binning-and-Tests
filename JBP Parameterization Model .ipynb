{
 "cells": [
  {
   "cell_type": "code",
   "execution_count": 1,
   "metadata": {},
   "outputs": [],
   "source": [
    "import numpy as np\n",
    "import math as m\n",
    "import scipy.integrate as integrate\n",
    "from scipy.integrate import quad\n",
    "import scipy\n",
    "import matplotlib.pyplot as plt"
   ]
  },
  {
   "cell_type": "code",
   "execution_count": 2,
   "metadata": {},
   "outputs": [],
   "source": [
    "# Systematic Covariance Matrix\n",
    "sysmtx = np.genfromtxt(\"sys_full_long.txt\");\n",
    "Csys = sysmtx.reshape([1048,1048],order='F')\n",
    "\n",
    "# Statistical matrix\n",
    "data2 = open(\"lcparamfull_full_long.txt\",'r').readlines()\n",
    "rawstat=[]\n",
    "for x in data2:\n",
    "    rawstat.append(x.split(' ')[5])\n",
    "#ss = np.diag(rawstat)\n",
    "\n",
    "ss = []\n",
    "for i in rawstat: \n",
    "    unstrung = eval(i)\n",
    "    ss.append(unstrung)\n",
    "Dstat = np.diag(ss)\n",
    "D = np.multiply(Dstat,Dstat)\n",
    "\n",
    "# Full covariance matrix\n",
    "C = np.zeros(shape=(1048,1048)) # Creating zero matrix\n",
    "\n",
    "# Iterate through rows\n",
    "for i in range(len(Csys)):\n",
    "   # Iterate through columns\n",
    "   for j in range(len(Csys[0])):\n",
    "       C[i][j] = Csys[i][j] + D[i][j] \n",
    "    \n",
    "# Inverse covariance matrix\n",
    "invC = np.linalg.inv(C)"
   ]
  },
  {
   "cell_type": "code",
   "execution_count": 3,
   "metadata": {},
   "outputs": [],
   "source": [
    "# Redshift data\n",
    "rawz=[]\n",
    "for x in data2:\n",
    "    rawz.append(x.split(' ')[2])\n",
    "sz = np.array(rawz)\n",
    "#unstring redshift array values\n",
    "rs = []\n",
    "for i in sz: \n",
    "    unstrung = eval(i)\n",
    "    rs.append(unstrung)\n",
    "    \n",
    "# B-band apparent magnitude data \n",
    "rawmb = []\n",
    "for x in data2:\n",
    "    rawmb.append(x.split(' ')[4])\n",
    "smb = np.array(rawmb)\n",
    "#unstring mb array values\n",
    "mb = []\n",
    "for i in smb: \n",
    "    unstrung = eval(i)\n",
    "    mb.append(unstrung)"
   ]
  },
  {
   "cell_type": "code",
   "execution_count": 4,
   "metadata": {},
   "outputs": [
    {
     "name": "stdout",
     "output_type": "stream",
     "text": [
      "Number of wa data points:100\n",
      "Number of H_0 data points:100\n",
      "The minimum chi2 value is  1026.9237613146727\n",
      "The ith value for minimum chi2 is  6851\n",
      "The H0 value for minimum chi2 is  73737.37373737374\n",
      "The wa value for minimum chi2 is  0.30303030303030276\n"
     ]
    }
   ],
   "source": [
    "# Pantheon Data \n",
    "\n",
    "# Defining constants\n",
    "K = int(input('Number of wa data points:'))\n",
    "H = int(input('Number of H_0 data points:'))\n",
    "c = 2.998*10**8 #Speed of light (m/s)\n",
    "H0 = np.linspace(60000,80000,H) #Chosen Hubble constant value (m/s/Mpc)\n",
    "om = 0.308\n",
    "w0 = -1.009\n",
    "wa = np.linspace(-10,10,K)\n",
    "\n",
    "crs = []\n",
    "for i in H0:\n",
    "    for j in rs:\n",
    "        crsi = c*(1+j)/i \n",
    "        crs.append(crsi)\n",
    "argcrs = np.array(crs).reshape([1048,H],order='F')\n",
    "procrs = argcrs.T #Each row correspond to all 1048 redshift data per H0 value\n",
    "\n",
    "colresult = [] #List to collect all the values in the loop\n",
    "argresult = [] #list to arrange the result in 1048*10\n",
    "for i in wa:\n",
    "    for j in rs:\n",
    "        def F(x):\n",
    "            return 1/m.sqrt(om*(1+x)**3+(1-om)*((1+x)**(3*(1+w0)))*m.exp(-3*i*(0.5-1/(1+x)+0.5/(1+x)**2)))\n",
    "        result, error = quad(F, 0, j) #Generate 1 integral result for each z-value \n",
    "        colresult.append(result) #1048*10 integral values for each redshift z value\n",
    "argresult = np.array(colresult).reshape([1048,K],order='F')\n",
    "# Rearrange such that each row yields 1048 integral-values of each omg_m value (i.e. row[0] is integral value for omg_m = 0.1)\n",
    "proint = argresult.T \n",
    "\n",
    "# Defining distance luminosity \n",
    "dL = []\n",
    "for i in range(K):\n",
    "    for j in range(H):    \n",
    "        dLi = np.multiply(procrs[i],proint[j])\n",
    "        dL.append(dLi)\n",
    "\n",
    "# Defining theoretical distance modulus for each omg_m\n",
    "uth = []\n",
    "for i in range(K*H):\n",
    "    uthi = [5*m.log10(j)+25 for j in dL[i]]\n",
    "    uth.append(uthi)\n",
    "Uth = np.array(uth)\n",
    "\n",
    "# Defining observational distance modulus\n",
    "M = -19.239 #absolute magnitude of Type 1a Supernovae\n",
    "Uobs = np.array([i-M for i in mb])\n",
    "\n",
    "# Distance residual vector for each omg_m\n",
    "drv = []\n",
    "for i in range(K*H):\n",
    "    drvi = np.subtract(Uobs,Uth[i])\n",
    "    drv.append(drvi)\n",
    "    \n",
    "chidict = {}\n",
    "# Obtaining chi2 value at each omg_m\n",
    "chi2 = []\n",
    "for i in range(K*H):\n",
    "    cdrv = np.dot(invC,drv[i])\n",
    "    chi2i = np.dot(drv[i].T,cdrv)\n",
    "    chi2.append(chi2i)\n",
    "    chidict[chi2[i]] = i\n",
    "\n",
    "print('The minimum chi2 value is ',min(chidict.keys()))\n",
    "print('The ith value for minimum chi2 is ',chidict[min(chidict.keys())])\n",
    "print('The H0 value for minimum chi2 is ',H0[int(chidict[min(chidict.keys())]/K)])\n",
    "print('The wa value for minimum chi2 is ',wa[chidict[min(chidict.keys())]-int(chidict[min(chidict.keys())]/K)*K])"
   ]
  },
  {
   "cell_type": "code",
   "execution_count": 5,
   "metadata": {},
   "outputs": [
    {
     "name": "stdout",
     "output_type": "stream",
     "text": [
      "The upper end H0 value is  74343.43434343435\n",
      "The lower end H0 value is  72929.29292929293\n",
      "H0 + 606.0606060606078\n",
      "H0 - 808.0808080808056\n",
      "The upper end Wa value is  -0.9090909090909101\n",
      "The lower end Wa value is  1.3131313131313131\n",
      "Wa + -1.2121212121212128\n",
      "Wa - -1.0101010101010104\n"
     ]
    }
   ],
   "source": [
    "# Find lowest and highest H0 and Om values \n",
    "\n",
    "def condition(x): return (x <= min(chidict.keys())+6.4)\n",
    "output = [idx for idx, element in enumerate(chi2) if condition(element)]\n",
    "#print(output)\n",
    "\n",
    "print('The upper end H0 value is ',H0[int(max(output)/K)])\n",
    "print('The lower end H0 value is ',H0[int(min(output)/K)])\n",
    "print('H0 +',H0[int(max(output)/K)] - H0[int(chidict[min(chidict.keys())]/K)])\n",
    "print('H0 -',H0[int(chidict[min(chidict.keys())]/K)] - H0[int(min(output)/K)])\n",
    "print('The upper end Wa value is ',wa[min(output)-int(min(output)/K)*K])\n",
    "print('The lower end Wa value is ',wa[max(output)-int(max(output)/K)*K])\n",
    "print('Wa +',wa[min(output)-int(min(output)/K)*K] - wa[chidict[min(chidict.keys())]-int(chidict[min(chidict.keys())]/K)*K])\n",
    "print('Wa -',wa[chidict[min(chidict.keys())]-int(chidict[min(chidict.keys())]/K)*K] - wa[max(output)-int(max(output)/K)*K])"
   ]
  },
  {
   "cell_type": "code",
   "execution_count": 6,
   "metadata": {},
   "outputs": [
    {
     "data": {
      "image/png": "[encoded data removed]",
      "text/plain": [
       "<Figure size 432x288 with 2 Axes>"
      ]
     },
     "metadata": {
      "needs_background": "light"
     },
     "output_type": "display_data"
    }
   ],
   "source": [
    "# Creating chi2 contours\n",
    "\n",
    "chi = np.array(chi2).reshape(100,100)\n",
    "Wa, h0 = np.meshgrid(wa, H0)\n",
    "\n",
    "fig,ax=plt.subplots(1,1)\n",
    "cp = ax.contourf(Wa, h0, chi, levels=[1000,1029.23,1033.32]) #+2.31; 6.4\n",
    "fig.colorbar(cp)\n",
    "ax.set_title('Constraints on H0 and Wa')\n",
    "ax.set_xlabel('Wa')\n",
    "ax.set_ylabel('Hubble constant (m/s/Mpc)')\n",
    "\n",
    "#plt.xlim([0,1])\n",
    "#plt.ylim([65000,80000])\n",
    "plt.show()"
   ]
  },
  {
   "cell_type": "markdown",
   "metadata": {},
   "source": [
    "## Redshift Binning (3 Bins)"
   ]
  },
  {
   "cell_type": "code",
   "execution_count": 7,
   "metadata": {},
   "outputs": [
    {
     "data": {
      "text/plain": [
       "350"
      ]
     },
     "execution_count": 7,
     "metadata": {},
     "output_type": "execute_result"
    }
   ],
   "source": [
    "Ars = []\n",
    "Amb = []\n",
    "Ai = []\n",
    "Brs = []\n",
    "Bmb = []\n",
    "Bi = []\n",
    "Crs = []\n",
    "Cmb = []\n",
    "Ci = []\n",
    "\n",
    "\n",
    "for i in range(len(rs)):\n",
    "    if (rs[i] <= 0.177):\n",
    "        Ars.append(rs[i])\n",
    "        Amb.append(mb[i])\n",
    "        Ai.append(i)\n",
    "    elif (rs[i] > 0.177 and rs[i] <= 0.33745):\n",
    "        Brs.append(rs[i])\n",
    "        Bmb.append(mb[i])\n",
    "        Bi.append(i)\n",
    "    else:\n",
    "        Crs.append(rs[i])\n",
    "        Cmb.append(mb[i])\n",
    "        Ci.append(i)\n",
    "        \n",
    "np.array(Ci).size"
   ]
  },
  {
   "cell_type": "code",
   "execution_count": 8,
   "metadata": {},
   "outputs": [],
   "source": [
    "# Covariance for A-Bin\n",
    "Acov = []\n",
    "for i in range(len(Ai)):\n",
    "    for j in range(len(Ai)):\n",
    "        Acov.append(C[Ai[i]][Ai[j]])\n",
    "AC = np.array(Acov).reshape([349,349],order='F')\n",
    "invA = np.linalg.inv(AC)\n",
    "\n",
    "# Covariance for B-Bin\n",
    "Bcov = []\n",
    "for i in range(len(Bi)):\n",
    "    for j in range(len(Bi)):\n",
    "        Bcov.append(C[Bi[i]][Bi[j]])\n",
    "BC = np.array(Bcov).reshape([349,349],order='F')\n",
    "invB = np.linalg.inv(BC)\n",
    "\n",
    "# Covariance for C-Bin\n",
    "Ccov = []\n",
    "for i in range(len(Ci)):\n",
    "    for j in range(len(Ci)):\n",
    "        Ccov.append(C[Ci[i]][Ci[j]])\n",
    "CC = np.array(Ccov).reshape([350,350],order='F')\n",
    "invCC = np.linalg.inv(CC)"
   ]
  },
  {
   "cell_type": "markdown",
   "metadata": {},
   "source": [
    "## A Bin"
   ]
  },
  {
   "cell_type": "code",
   "execution_count": 9,
   "metadata": {},
   "outputs": [
    {
     "name": "stdout",
     "output_type": "stream",
     "text": [
      "Number of wa data points:100\n",
      "Number of H_0 data points:100\n",
      "The minimum chi2 value is  352.2885170901258\n",
      "The ith value for minimum chi2 is  6854\n",
      "The H0 value for minimum chi2 is  73737.37373737374\n",
      "The wa value for minimum chi2 is  0.9090909090909083\n"
     ]
    }
   ],
   "source": [
    "# Pantheon Data \n",
    "\n",
    "# Defining constants\n",
    "K = int(input('Number of wa data points:'))\n",
    "H = int(input('Number of H_0 data points:'))\n",
    "c = 2.998*10**8 #Speed of light (m/s)\n",
    "H0 = np.linspace(60000,80000,H) #Chosen Hubble constant value (m/s/Mpc)\n",
    "om = 0.308\n",
    "w0 = -1.009\n",
    "wa = np.linspace(-10,10,K)\n",
    "\n",
    "crs = []\n",
    "for i in H0:\n",
    "    for j in Ars:\n",
    "        crsi = c*(1+j)/i \n",
    "        crs.append(crsi)\n",
    "argcrs = np.array(crs).reshape([349,H],order='F')\n",
    "procrs = argcrs.T #Each row correspond to all 1048 redshift data per H0 value\n",
    "\n",
    "colresult = [] #List to collect all the values in the loop\n",
    "argresult = [] #list to arrange the result in 1048*10\n",
    "for i in wa:\n",
    "    for j in Ars:\n",
    "        def F(x):\n",
    "            return 1/m.sqrt(om*(1+x)**3+(1-om)*((1+x)**(3*(1+w0)))*m.exp(-3*i*(0.5-1/(1+x)+0.5/(1+x)**2)))\n",
    "        result, error = quad(F, 0, j) #Generate 1 integral result for each z-value \n",
    "        colresult.append(result) #1048*10 integral values for each redshift z value\n",
    "argresult = np.array(colresult).reshape([349,K],order='F')\n",
    "# Rearrange such that each row yields 1048 integral-values of each omg_m value (i.e. row[0] is integral value for omg_m = 0.1)\n",
    "proint = argresult.T \n",
    "\n",
    "# Defining distance luminosity \n",
    "dL = []\n",
    "for i in range(K):\n",
    "    for j in range(H):    \n",
    "        dLi = np.multiply(procrs[i],proint[j])\n",
    "        dL.append(dLi)\n",
    "\n",
    "# Defining theoretical distance modulus for each omg_m\n",
    "uth = []\n",
    "for i in range(K*H):\n",
    "    uthi = [5*m.log10(j)+25 for j in dL[i]]\n",
    "    uth.append(uthi)\n",
    "Uth = np.array(uth)\n",
    "\n",
    "# Defining observational distance modulus\n",
    "M = -19.239 #absolute magnitude of Type 1a Supernovae\n",
    "Uobs = np.array([i-M for i in Amb])\n",
    "\n",
    "# Distance residual vector for each omg_m\n",
    "drv = []\n",
    "for i in range(K*H):\n",
    "    drvi = np.subtract(Uobs,Uth[i])\n",
    "    drv.append(drvi)\n",
    "    \n",
    "Achidict = {}\n",
    "# Obtaining chi2 value at each omg_m\n",
    "Achi2 = []\n",
    "for i in range(K*H):\n",
    "    cdrv = np.dot(invA,drv[i])\n",
    "    Achi2i = np.dot(drv[i].T,cdrv)\n",
    "    Achi2.append(Achi2i)\n",
    "    Achidict[Achi2[i]] = i\n",
    "\n",
    "print('The minimum chi2 value is ',min(Achidict.keys()))\n",
    "print('The ith value for minimum chi2 is ',Achidict[min(Achidict.keys())])\n",
    "print('The H0 value for minimum chi2 is ',H0[int(Achidict[min(Achidict.keys())]/K)])\n",
    "print('The wa value for minimum chi2 is ',wa[Achidict[min(Achidict.keys())]-int(Achidict[min(Achidict.keys())]/K)*K])"
   ]
  },
  {
   "cell_type": "code",
   "execution_count": 10,
   "metadata": {},
   "outputs": [
    {
     "data": {
      "image/png": "[encoded data removed]",
      "text/plain": [
       "<Figure size 432x288 with 2 Axes>"
      ]
     },
     "metadata": {
      "needs_background": "light"
     },
     "output_type": "display_data"
    }
   ],
   "source": [
    "# Creating chi2 contours\n",
    "\n",
    "Achi = np.array(Achi2).reshape(100,100)\n",
    "Wa, h0 = np.meshgrid(wa, H0)\n",
    "\n",
    "fig,ax=plt.subplots(1,1)\n",
    "cp = ax.contourf(Wa, h0, Achi, levels=[300,354.60,358.69]) #+2.31; 6.4\n",
    "fig.colorbar(cp)\n",
    "ax.set_title('Constraints on H0 and Wa')\n",
    "ax.set_xlabel('Wa')\n",
    "ax.set_ylabel('Hubble constant (m/s/Mpc)')\n",
    "\n",
    "#plt.xlim([0,1])\n",
    "#plt.ylim([65000,80000])\n",
    "plt.show()"
   ]
  },
  {
   "cell_type": "markdown",
   "metadata": {},
   "source": [
    "## B Bin"
   ]
  },
  {
   "cell_type": "code",
   "execution_count": 11,
   "metadata": {},
   "outputs": [
    {
     "name": "stdout",
     "output_type": "stream",
     "text": [
      "Number of wa data points:100\n",
      "Number of H_0 data points:100\n",
      "The minimum chi2 value is  356.24285040110954\n",
      "The ith value for minimum chi2 is  6647\n",
      "The H0 value for minimum chi2 is  73333.33333333333\n",
      "The wa value for minimum chi2 is  -0.5050505050505052\n"
     ]
    }
   ],
   "source": [
    "# Pantheon Data \n",
    "\n",
    "# Defining constants\n",
    "K = int(input('Number of wa data points:'))\n",
    "H = int(input('Number of H_0 data points:'))\n",
    "c = 2.998*10**8 #Speed of light (m/s)\n",
    "H0 = np.linspace(60000,80000,H) #Chosen Hubble constant value (m/s/Mpc)\n",
    "om = 0.308\n",
    "w0 = -1.009\n",
    "wa = np.linspace(-10,10,K)\n",
    "\n",
    "crs = []\n",
    "for i in H0:\n",
    "    for j in Brs:\n",
    "        crsi = c*(1+j)/i \n",
    "        crs.append(crsi)\n",
    "argcrs = np.array(crs).reshape([349,H],order='F')\n",
    "procrs = argcrs.T #Each row correspond to all 1048 redshift data per H0 value\n",
    "\n",
    "colresult = [] #List to collect all the values in the loop\n",
    "argresult = [] #list to arrange the result in 1048*10\n",
    "for i in wa:\n",
    "    for j in Brs:\n",
    "        def F(x):\n",
    "            return 1/m.sqrt(om*(1+x)**3+(1-om)*((1+x)**(3*(1+w0)))*m.exp(-3*i*(0.5-1/(1+x)+0.5/(1+x)**2)))\n",
    "        result, error = quad(F, 0, j) #Generate 1 integral result for each z-value \n",
    "        colresult.append(result) #1048*10 integral values for each redshift z value\n",
    "argresult = np.array(colresult).reshape([349,K],order='F')\n",
    "# Rearrange such that each row yields 1048 integral-values of each omg_m value (i.e. row[0] is integral value for omg_m = 0.1)\n",
    "proint = argresult.T \n",
    "\n",
    "# Defining distance luminosity \n",
    "dL = []\n",
    "for i in range(K):\n",
    "    for j in range(H):    \n",
    "        dLi = np.multiply(procrs[i],proint[j])\n",
    "        dL.append(dLi)\n",
    "\n",
    "# Defining theoretical distance modulus for each omg_m\n",
    "uth = []\n",
    "for i in range(K*H):\n",
    "    uthi = [5*m.log10(j)+25 for j in dL[i]]\n",
    "    uth.append(uthi)\n",
    "Uth = np.array(uth)\n",
    "\n",
    "# Defining observational distance modulus\n",
    "M = -19.239 #absolute magnitude of Type 1a Supernovae\n",
    "Uobs = np.array([i-M for i in Bmb])\n",
    "\n",
    "# Distance residual vector for each omg_m\n",
    "drv = []\n",
    "for i in range(K*H):\n",
    "    drvi = np.subtract(Uobs,Uth[i])\n",
    "    drv.append(drvi)\n",
    "    \n",
    "Bchidict = {}\n",
    "# Obtaining chi2 value at each omg_m\n",
    "Bchi2 = []\n",
    "for i in range(K*H):\n",
    "    cdrv = np.dot(invB,drv[i])\n",
    "    Bchi2i = np.dot(drv[i].T,cdrv)\n",
    "    Bchi2.append(Bchi2i)\n",
    "    Bchidict[Bchi2[i]] = i\n",
    "\n",
    "print('The minimum chi2 value is ',min(Bchidict.keys()))\n",
    "print('The ith value for minimum chi2 is ',Bchidict[min(Bchidict.keys())])\n",
    "print('The H0 value for minimum chi2 is ',H0[int(Bchidict[min(Bchidict.keys())]/K)])\n",
    "print('The wa value for minimum chi2 is ',wa[Bchidict[min(Bchidict.keys())]-int(Bchidict[min(Bchidict.keys())]/K)*K])"
   ]
  },
  {
   "cell_type": "code",
   "execution_count": 12,
   "metadata": {},
   "outputs": [
    {
     "data": {
      "image/png": "[encoded data removed]",
      "text/plain": [
       "<Figure size 432x288 with 2 Axes>"
      ]
     },
     "metadata": {
      "needs_background": "light"
     },
     "output_type": "display_data"
    }
   ],
   "source": [
    "# Creating chi2 contours\n",
    "\n",
    "Bchi = np.array(Bchi2).reshape(100,100)\n",
    "Wa, h0 = np.meshgrid(wa, H0)\n",
    "\n",
    "fig,ax=plt.subplots(1,1)\n",
    "cp = ax.contourf(Wa, h0, Bchi, levels=[300,358.55,362.64]) #+2.31; 6.4\n",
    "fig.colorbar(cp)\n",
    "ax.set_title('Constraints on H0 and Wa')\n",
    "ax.set_xlabel('Wa')\n",
    "ax.set_ylabel('Hubble constant (m/s/Mpc)')\n",
    "\n",
    "#plt.xlim([0,1])\n",
    "#plt.ylim([65000,80000])\n",
    "plt.show()"
   ]
  },
  {
   "cell_type": "markdown",
   "metadata": {},
   "source": [
    "## C Bin"
   ]
  },
  {
   "cell_type": "code",
   "execution_count": 13,
   "metadata": {},
   "outputs": [
    {
     "name": "stdout",
     "output_type": "stream",
     "text": [
      "Number of wa data points:100\n",
      "Number of H_0 data points:100\n",
      "The minimum chi2 value is  317.866983913972\n",
      "The ith value for minimum chi2 is  6650\n",
      "The H0 value for minimum chi2 is  73333.33333333333\n",
      "The wa value for minimum chi2 is  0.10101010101010033\n"
     ]
    }
   ],
   "source": [
    "# Pantheon Data \n",
    "\n",
    "# Defining constants\n",
    "K = int(input('Number of wa data points:'))\n",
    "H = int(input('Number of H_0 data points:'))\n",
    "c = 2.998*10**8 #Speed of light (m/s)\n",
    "H0 = np.linspace(60000,80000,H) #Chosen Hubble constant value (m/s/Mpc)\n",
    "om = 0.308\n",
    "w0 = -1.009\n",
    "wa = np.linspace(-10,10,K)\n",
    "\n",
    "crs = []\n",
    "for i in H0:\n",
    "    for j in Crs:\n",
    "        crsi = c*(1+j)/i \n",
    "        crs.append(crsi)\n",
    "argcrs = np.array(crs).reshape([350,H],order='F')\n",
    "procrs = argcrs.T #Each row correspond to all 1048 redshift data per H0 value\n",
    "\n",
    "colresult = [] #List to collect all the values in the loop\n",
    "argresult = [] #list to arrange the result in 1048*10\n",
    "for i in wa:\n",
    "    for j in Crs:\n",
    "        def F(x):\n",
    "            return 1/m.sqrt(om*(1+x)**3+(1-om)*((1+x)**(3*(1+w0)))*m.exp(-3*i*(0.5-1/(1+x)+0.5/(1+x)**2)))\n",
    "        result, error = quad(F, 0, j) #Generate 1 integral result for each z-value \n",
    "        colresult.append(result) #1048*10 integral values for each redshift z value\n",
    "argresult = np.array(colresult).reshape([350,K],order='F')\n",
    "# Rearrange such that each row yields 1048 integral-values of each omg_m value (i.e. row[0] is integral value for omg_m = 0.1)\n",
    "proint = argresult.T \n",
    "\n",
    "# Defining distance luminosity \n",
    "dL = []\n",
    "for i in range(K):\n",
    "    for j in range(H):    \n",
    "        dLi = np.multiply(procrs[i],proint[j])\n",
    "        dL.append(dLi)\n",
    "\n",
    "# Defining theoretical distance modulus for each omg_m\n",
    "uth = []\n",
    "for i in range(K*H):\n",
    "    uthi = [5*m.log10(j)+25 for j in dL[i]]\n",
    "    uth.append(uthi)\n",
    "Uth = np.array(uth)\n",
    "\n",
    "# Defining observational distance modulus\n",
    "M = -19.239 #absolute magnitude of Type 1a Supernovae\n",
    "Uobs = np.array([i-M for i in Cmb])\n",
    "\n",
    "# Distance residual vector for each omg_m\n",
    "drv = []\n",
    "for i in range(K*H):\n",
    "    drvi = np.subtract(Uobs,Uth[i])\n",
    "    drv.append(drvi)\n",
    "    \n",
    "Cchidict = {}\n",
    "# Obtaining chi2 value at each omg_m\n",
    "Cchi2 = []\n",
    "for i in range(K*H):\n",
    "    cdrv = np.dot(invCC,drv[i])\n",
    "    Cchi2i = np.dot(drv[i].T,cdrv)\n",
    "    Cchi2.append(Cchi2i)\n",
    "    Cchidict[Cchi2[i]] = i\n",
    "\n",
    "print('The minimum chi2 value is ',min(Cchidict.keys()))\n",
    "print('The ith value for minimum chi2 is ',Cchidict[min(Cchidict.keys())])\n",
    "print('The H0 value for minimum chi2 is ',H0[int(Cchidict[min(Cchidict.keys())]/K)])\n",
    "print('The wa value for minimum chi2 is ',wa[Cchidict[min(Cchidict.keys())]-int(Cchidict[min(Cchidict.keys())]/K)*K])"
   ]
  },
  {
   "cell_type": "code",
   "execution_count": 14,
   "metadata": {},
   "outputs": [
    {
     "data": {
      "image/png": "[encoded data removed]",
      "text/plain": [
       "<Figure size 432x288 with 2 Axes>"
      ]
     },
     "metadata": {
      "needs_background": "light"
     },
     "output_type": "display_data"
    }
   ],
   "source": [
    "# Creating chi2 contours\n",
    "\n",
    "Cchi = np.array(Cchi2).reshape(100,100)\n",
    "Wa, h0 = np.meshgrid(wa, H0)\n",
    "\n",
    "fig,ax=plt.subplots(1,1)\n",
    "cp = ax.contourf(Wa, h0, Cchi, levels=[300,320.18,324.27]) #+2.31; 6.4\n",
    "fig.colorbar(cp)\n",
    "ax.set_title('Constraints on H0 and Wa')\n",
    "ax.set_xlabel('Wa')\n",
    "ax.set_ylabel('Hubble constant (m/s/Mpc)')\n",
    "\n",
    "#plt.xlim([0,1])\n",
    "#plt.ylim([65000,80000])\n",
    "plt.show()"
   ]
  },
  {
   "cell_type": "markdown",
   "metadata": {},
   "source": [
    "## Redshift Binning (4 Bins)"
   ]
  },
  {
   "cell_type": "code",
   "execution_count": 15,
   "metadata": {},
   "outputs": [
    {
     "data": {
      "text/plain": [
       "262"
      ]
     },
     "execution_count": 15,
     "metadata": {},
     "output_type": "execute_result"
    }
   ],
   "source": [
    "Ars = []\n",
    "Amb = []\n",
    "Ai = []\n",
    "Brs = []\n",
    "Bmb = []\n",
    "Bi = []\n",
    "Crs = []\n",
    "Cmb = []\n",
    "Ci = []\n",
    "Drs = []\n",
    "Dmb = []\n",
    "Di = []\n",
    "\n",
    "for i in range(len(rs)):\n",
    "    if (rs[i] <= 0.132):\n",
    "        Ars.append(rs[i])\n",
    "        Amb.append(mb[i])\n",
    "        Ai.append(i)\n",
    "    elif (rs[i] > 0.132 and rs[i] <= 0.2485):\n",
    "        Brs.append(rs[i])\n",
    "        Bmb.append(mb[i])\n",
    "        Bi.append(i)\n",
    "    elif (rs[i] > 0.2485 and rs[i] <= 0.4235):\n",
    "        Crs.append(rs[i])\n",
    "        Cmb.append(mb[i])\n",
    "        Ci.append(i)\n",
    "    else:\n",
    "        Drs.append(rs[i])\n",
    "        Dmb.append(mb[i])\n",
    "        Di.append(i)\n",
    "        \n",
    "np.array(Di).size"
   ]
  },
  {
   "cell_type": "code",
   "execution_count": 16,
   "metadata": {},
   "outputs": [],
   "source": [
    "# Covariance for A-Bin\n",
    "Acov = []\n",
    "for i in range(len(Ai)):\n",
    "    for j in range(len(Ai)):\n",
    "        Acov.append(C[Ai[i]][Ai[j]])\n",
    "AC = np.array(Acov).reshape([262,262],order='F')\n",
    "invA = np.linalg.inv(AC)\n",
    "\n",
    "# Covariance for B-Bin\n",
    "Bcov = []\n",
    "for i in range(len(Bi)):\n",
    "    for j in range(len(Bi)):\n",
    "        Bcov.append(C[Bi[i]][Bi[j]])\n",
    "BC = np.array(Bcov).reshape([262,262],order='F')\n",
    "invB = np.linalg.inv(BC)\n",
    "\n",
    "# Covariance for C-Bin\n",
    "Ccov = []\n",
    "for i in range(len(Ci)):\n",
    "    for j in range(len(Ci)):\n",
    "        Ccov.append(C[Ci[i]][Ci[j]])\n",
    "CC = np.array(Ccov).reshape([262,262],order='F')\n",
    "invCC = np.linalg.inv(CC)\n",
    "\n",
    "# Covariance for D-Bin\n",
    "Dcov = []\n",
    "for i in range(len(Di)):\n",
    "    for j in range(len(Di)):\n",
    "        Dcov.append(C[Di[i]][Di[j]])\n",
    "DC = np.array(Dcov).reshape([262,262],order='F')\n",
    "invD = np.linalg.inv(DC)"
   ]
  },
  {
   "cell_type": "markdown",
   "metadata": {},
   "source": [
    "## A Bin"
   ]
  },
  {
   "cell_type": "code",
   "execution_count": 17,
   "metadata": {},
   "outputs": [
    {
     "name": "stdout",
     "output_type": "stream",
     "text": [
      "Number of wa data points:100\n",
      "Number of H_0 data points:100\n",
      "The minimum chi2 value is  248.38353402882262\n",
      "The ith value for minimum chi2 is  7198\n",
      "The H0 value for minimum chi2 is  74343.43434343435\n",
      "The wa value for minimum chi2 is  9.7979797979798\n"
     ]
    }
   ],
   "source": [
    "# Pantheon Data \n",
    "\n",
    "# Defining constants\n",
    "K = int(input('Number of wa data points:'))\n",
    "H = int(input('Number of H_0 data points:'))\n",
    "c = 2.998*10**8 #Speed of light (m/s)\n",
    "H0 = np.linspace(60000,80000,H) #Chosen Hubble constant value (m/s/Mpc)\n",
    "om = 0.308\n",
    "w0 = -1.009\n",
    "wa = np.linspace(-10,10,K)\n",
    "\n",
    "crs = []\n",
    "for i in H0:\n",
    "    for j in Ars:\n",
    "        crsi = c*(1+j)/i \n",
    "        crs.append(crsi)\n",
    "argcrs = np.array(crs).reshape([262,H],order='F')\n",
    "procrs = argcrs.T #Each row correspond to all 1048 redshift data per H0 value\n",
    "\n",
    "colresult = [] #List to collect all the values in the loop\n",
    "argresult = [] #list to arrange the result in 1048*10\n",
    "for i in wa:\n",
    "    for j in Ars:\n",
    "        def F(x):\n",
    "            return 1/m.sqrt(om*(1+x)**3+(1-om)*((1+x)**(3*(1+w0)))*m.exp(-3*i*(0.5-1/(1+x)+0.5/(1+x)**2)))\n",
    "        result, error = quad(F, 0, j) #Generate 1 integral result for each z-value \n",
    "        colresult.append(result) #1048*10 integral values for each redshift z value\n",
    "argresult = np.array(colresult).reshape([262,K],order='F')\n",
    "# Rearrange such that each row yields 1048 integral-values of each omg_m value (i.e. row[0] is integral value for omg_m = 0.1)\n",
    "proint = argresult.T \n",
    "\n",
    "# Defining distance luminosity \n",
    "dL = []\n",
    "for i in range(K):\n",
    "    for j in range(H):    \n",
    "        dLi = np.multiply(procrs[i],proint[j])\n",
    "        dL.append(dLi)\n",
    "\n",
    "# Defining theoretical distance modulus for each omg_m\n",
    "uth = []\n",
    "for i in range(K*H):\n",
    "    uthi = [5*m.log10(j)+25 for j in dL[i]]\n",
    "    uth.append(uthi)\n",
    "Uth = np.array(uth)\n",
    "\n",
    "# Defining observational distance modulus\n",
    "M = -19.239 #absolute magnitude of Type 1a Supernovae\n",
    "Uobs = np.array([i-M for i in Amb])\n",
    "\n",
    "# Distance residual vector for each omg_m\n",
    "drv = []\n",
    "for i in range(K*H):\n",
    "    drvi = np.subtract(Uobs,Uth[i])\n",
    "    drv.append(drvi)\n",
    "    \n",
    "Achidict = {}\n",
    "# Obtaining chi2 value at each omg_m\n",
    "Achi2 = []\n",
    "for i in range(K*H):\n",
    "    cdrv = np.dot(invA,drv[i])\n",
    "    Achi2i = np.dot(drv[i].T,cdrv)\n",
    "    Achi2.append(Achi2i)\n",
    "    Achidict[Achi2[i]] = i\n",
    "\n",
    "print('The minimum chi2 value is ',min(Achidict.keys()))\n",
    "print('The ith value for minimum chi2 is ',Achidict[min(Achidict.keys())])\n",
    "print('The H0 value for minimum chi2 is ',H0[int(Achidict[min(Achidict.keys())]/K)])\n",
    "print('The wa value for minimum chi2 is ',wa[Achidict[min(Achidict.keys())]-int(Achidict[min(Achidict.keys())]/K)*K])"
   ]
  },
  {
   "cell_type": "code",
   "execution_count": 18,
   "metadata": {},
   "outputs": [
    {
     "data": {
      "image/png": "[encoded data removed]",
      "text/plain": [
       "<Figure size 432x288 with 2 Axes>"
      ]
     },
     "metadata": {
      "needs_background": "light"
     },
     "output_type": "display_data"
    }
   ],
   "source": [
    "# Creating chi2 contours\n",
    "\n",
    "Achi = np.array(Achi2).reshape(100,100)\n",
    "Wa, h0 = np.meshgrid(wa, H0)\n",
    "\n",
    "fig,ax=plt.subplots(1,1)\n",
    "cp = ax.contourf(Wa, h0, Achi, levels=[200,250.69,254.78]) #+2.31; 6.4\n",
    "fig.colorbar(cp)\n",
    "ax.set_title('Constraints on H0 and Wa')\n",
    "ax.set_xlabel('Wa')\n",
    "ax.set_ylabel('Hubble constant (m/s/Mpc)')\n",
    "\n",
    "#plt.xlim([0,1])\n",
    "#plt.ylim([65000,80000])\n",
    "plt.show()"
   ]
  },
  {
   "cell_type": "markdown",
   "metadata": {},
   "source": [
    "## B Bin"
   ]
  },
  {
   "cell_type": "code",
   "execution_count": 19,
   "metadata": {},
   "outputs": [
    {
     "name": "stdout",
     "output_type": "stream",
     "text": [
      "Number of wa data points:100\n",
      "Number of H_0 data points:100\n",
      "The minimum chi2 value is  288.06802752052783\n",
      "The ith value for minimum chi2 is  5926\n",
      "The H0 value for minimum chi2 is  71919.19191919192\n",
      "The wa value for minimum chi2 is  -4.747474747474747\n"
     ]
    }
   ],
   "source": [
    "# Pantheon Data \n",
    "\n",
    "# Defining constants\n",
    "K = int(input('Number of wa data points:'))\n",
    "H = int(input('Number of H_0 data points:'))\n",
    "c = 2.998*10**8 #Speed of light (m/s)\n",
    "H0 = np.linspace(60000,80000,H) #Chosen Hubble constant value (m/s/Mpc)\n",
    "om = 0.308\n",
    "w0 = -1.009\n",
    "wa = np.linspace(-10,10,K)\n",
    "\n",
    "crs = []\n",
    "for i in H0:\n",
    "    for j in Brs:\n",
    "        crsi = c*(1+j)/i \n",
    "        crs.append(crsi)\n",
    "argcrs = np.array(crs).reshape([262,H],order='F')\n",
    "procrs = argcrs.T #Each row correspond to all 1048 redshift data per H0 value\n",
    "\n",
    "colresult = [] #List to collect all the values in the loop\n",
    "argresult = [] #list to arrange the result in 1048*10\n",
    "for i in wa:\n",
    "    for j in Brs:\n",
    "        def F(x):\n",
    "            return 1/m.sqrt(om*(1+x)**3+(1-om)*((1+x)**(3*(1+w0)))*m.exp(-3*i*(0.5-1/(1+x)+0.5/(1+x)**2)))\n",
    "        result, error = quad(F, 0, j) #Generate 1 integral result for each z-value \n",
    "        colresult.append(result) #1048*10 integral values for each redshift z value\n",
    "argresult = np.array(colresult).reshape([262,K],order='F')\n",
    "# Rearrange such that each row yields 1048 integral-values of each omg_m value (i.e. row[0] is integral value for omg_m = 0.1)\n",
    "proint = argresult.T \n",
    "\n",
    "# Defining distance luminosity \n",
    "dL = []\n",
    "for i in range(K):\n",
    "    for j in range(H):    \n",
    "        dLi = np.multiply(procrs[i],proint[j])\n",
    "        dL.append(dLi)\n",
    "\n",
    "# Defining theoretical distance modulus for each omg_m\n",
    "uth = []\n",
    "for i in range(K*H):\n",
    "    uthi = [5*m.log10(j)+25 for j in dL[i]]\n",
    "    uth.append(uthi)\n",
    "Uth = np.array(uth)\n",
    "\n",
    "# Defining observational distance modulus\n",
    "M = -19.239 #absolute magnitude of Type 1a Supernovae\n",
    "Uobs = np.array([i-M for i in Bmb])\n",
    "\n",
    "# Distance residual vector for each omg_m\n",
    "drv = []\n",
    "for i in range(K*H):\n",
    "    drvi = np.subtract(Uobs,Uth[i])\n",
    "    drv.append(drvi)\n",
    "    \n",
    "Bchidict = {}\n",
    "# Obtaining chi2 value at each omg_m\n",
    "Bchi2 = []\n",
    "for i in range(K*H):\n",
    "    cdrv = np.dot(invB,drv[i])\n",
    "    Bchi2i = np.dot(drv[i].T,cdrv)\n",
    "    Bchi2.append(Bchi2i)\n",
    "    Bchidict[Bchi2[i]] = i\n",
    "\n",
    "print('The minimum chi2 value is ',min(Bchidict.keys()))\n",
    "print('The ith value for minimum chi2 is ',Bchidict[min(Bchidict.keys())])\n",
    "print('The H0 value for minimum chi2 is ',H0[int(Bchidict[min(Bchidict.keys())]/K)])\n",
    "print('The wa value for minimum chi2 is ',wa[Bchidict[min(Bchidict.keys())]-int(Bchidict[min(Bchidict.keys())]/K)*K])"
   ]
  },
  {
   "cell_type": "code",
   "execution_count": 20,
   "metadata": {},
   "outputs": [
    {
     "data": {
      "image/png": "[encoded data removed]",
      "text/plain": [
       "<Figure size 432x288 with 2 Axes>"
      ]
     },
     "metadata": {
      "needs_background": "light"
     },
     "output_type": "display_data"
    }
   ],
   "source": [
    "# Creating chi2 contours\n",
    "\n",
    "Bchi = np.array(Bchi2).reshape(100,100)\n",
    "Wa, h0 = np.meshgrid(wa, H0)\n",
    "\n",
    "fig,ax=plt.subplots(1,1)\n",
    "cp = ax.contourf(Wa, h0, Bchi, levels=[200,290.38,294.47]) #+2.31; 6.4\n",
    "fig.colorbar(cp)\n",
    "ax.set_title('Constraints on H0 and Wa')\n",
    "ax.set_xlabel('Wa')\n",
    "ax.set_ylabel('Hubble constant (m/s/Mpc)')\n",
    "\n",
    "#plt.xlim([0,1])\n",
    "#plt.ylim([65000,80000])\n",
    "plt.show()"
   ]
  },
  {
   "cell_type": "markdown",
   "metadata": {},
   "source": [
    "## C Bin"
   ]
  },
  {
   "cell_type": "code",
   "execution_count": 21,
   "metadata": {},
   "outputs": [
    {
     "name": "stdout",
     "output_type": "stream",
     "text": [
      "Number of wa data points:100\n",
      "Number of H_0 data points:100\n",
      "The minimum chi2 value is  252.16126041700642\n",
      "The ith value for minimum chi2 is  7562\n",
      "The H0 value for minimum chi2 is  75151.51515151515\n",
      "The wa value for minimum chi2 is  2.525252525252524\n"
     ]
    }
   ],
   "source": [
    "# Pantheon Data \n",
    "\n",
    "# Defining constants\n",
    "K = int(input('Number of wa data points:'))\n",
    "H = int(input('Number of H_0 data points:'))\n",
    "c = 2.998*10**8 #Speed of light (m/s)\n",
    "H0 = np.linspace(60000,80000,H) #Chosen Hubble constant value (m/s/Mpc)\n",
    "om = 0.308\n",
    "w0 = -1.009\n",
    "wa = np.linspace(-10,10,K)\n",
    "\n",
    "crs = []\n",
    "for i in H0:\n",
    "    for j in Crs:\n",
    "        crsi = c*(1+j)/i \n",
    "        crs.append(crsi)\n",
    "argcrs = np.array(crs).reshape([262,H],order='F')\n",
    "procrs = argcrs.T #Each row correspond to all 1048 redshift data per H0 value\n",
    "\n",
    "colresult = [] #List to collect all the values in the loop\n",
    "argresult = [] #list to arrange the result in 1048*10\n",
    "for i in wa:\n",
    "    for j in Crs:\n",
    "        def F(x):\n",
    "            return 1/m.sqrt(om*(1+x)**3+(1-om)*((1+x)**(3*(1+w0)))*m.exp(-3*i*(0.5-1/(1+x)+0.5/(1+x)**2)))\n",
    "        result, error = quad(F, 0, j) #Generate 1 integral result for each z-value \n",
    "        colresult.append(result) #1048*10 integral values for each redshift z value\n",
    "argresult = np.array(colresult).reshape([262,K],order='F')\n",
    "# Rearrange such that each row yields 1048 integral-values of each omg_m value (i.e. row[0] is integral value for omg_m = 0.1)\n",
    "proint = argresult.T \n",
    "\n",
    "# Defining distance luminosity \n",
    "dL = []\n",
    "for i in range(K):\n",
    "    for j in range(H):    \n",
    "        dLi = np.multiply(procrs[i],proint[j])\n",
    "        dL.append(dLi)\n",
    "\n",
    "# Defining theoretical distance modulus for each omg_m\n",
    "uth = []\n",
    "for i in range(K*H):\n",
    "    uthi = [5*m.log10(j)+25 for j in dL[i]]\n",
    "    uth.append(uthi)\n",
    "Uth = np.array(uth)\n",
    "\n",
    "# Defining observational distance modulus\n",
    "M = -19.239 #absolute magnitude of Type 1a Supernovae\n",
    "Uobs = np.array([i-M for i in Cmb])\n",
    "\n",
    "# Distance residual vector for each omg_m\n",
    "drv = []\n",
    "for i in range(K*H):\n",
    "    drvi = np.subtract(Uobs,Uth[i])\n",
    "    drv.append(drvi)\n",
    "    \n",
    "Cchidict = {}\n",
    "# Obtaining chi2 value at each omg_m\n",
    "Cchi2 = []\n",
    "for i in range(K*H):\n",
    "    cdrv = np.dot(invCC,drv[i])\n",
    "    Cchi2i = np.dot(drv[i].T,cdrv)\n",
    "    Cchi2.append(Cchi2i)\n",
    "    Cchidict[Cchi2[i]] = i\n",
    "\n",
    "print('The minimum chi2 value is ',min(Cchidict.keys()))\n",
    "print('The ith value for minimum chi2 is ',Cchidict[min(Cchidict.keys())])\n",
    "print('The H0 value for minimum chi2 is ',H0[int(Cchidict[min(Cchidict.keys())]/K)])\n",
    "print('The wa value for minimum chi2 is ',wa[Cchidict[min(Cchidict.keys())]-int(Cchidict[min(Cchidict.keys())]/K)*K])"
   ]
  },
  {
   "cell_type": "code",
   "execution_count": 22,
   "metadata": {},
   "outputs": [
    {
     "data": {
      "image/png": "[encoded data removed]",
      "text/plain": [
       "<Figure size 432x288 with 2 Axes>"
      ]
     },
     "metadata": {
      "needs_background": "light"
     },
     "output_type": "display_data"
    }
   ],
   "source": [
    "# Creating chi2 contours\n",
    "\n",
    "Cchi = np.array(Cchi2).reshape(100,100)\n",
    "Wa, h0 = np.meshgrid(wa, H0)\n",
    "\n",
    "fig,ax=plt.subplots(1,1)\n",
    "cp = ax.contourf(Wa, h0, Cchi, levels=[200,254.47,258.56]) #+2.31; 6.4\n",
    "fig.colorbar(cp)\n",
    "ax.set_title('Constraints on H0 and Wa')\n",
    "ax.set_xlabel('Wa')\n",
    "ax.set_ylabel('Hubble constant (m/s/Mpc)')\n",
    "\n",
    "#plt.xlim([0,1])\n",
    "#plt.ylim([65000,80000])\n",
    "plt.show()"
   ]
  },
  {
   "cell_type": "markdown",
   "metadata": {},
   "source": [
    "## D Bin"
   ]
  },
  {
   "cell_type": "code",
   "execution_count": 23,
   "metadata": {},
   "outputs": [
    {
     "name": "stdout",
     "output_type": "stream",
     "text": [
      "Number of wa data points:100\n",
      "Number of H_0 data points:100\n",
      "The minimum chi2 value is  232.24191859795323\n",
      "The ith value for minimum chi2 is  6348\n",
      "The H0 value for minimum chi2 is  72727.27272727274\n",
      "The wa value for minimum chi2 is  -0.30303030303030276\n"
     ]
    }
   ],
   "source": [
    "# Pantheon Data \n",
    "\n",
    "# Defining constants\n",
    "K = int(input('Number of wa data points:'))\n",
    "H = int(input('Number of H_0 data points:'))\n",
    "c = 2.998*10**8 #Speed of light (m/s)\n",
    "H0 = np.linspace(60000,80000,H) #Chosen Hubble constant value (m/s/Mpc)\n",
    "om = 0.308\n",
    "w0 = -1.009\n",
    "wa = np.linspace(-10,10,K)\n",
    "\n",
    "crs = []\n",
    "for i in H0:\n",
    "    for j in Drs:\n",
    "        crsi = c*(1+j)/i \n",
    "        crs.append(crsi)\n",
    "argcrs = np.array(crs).reshape([262,H],order='F')\n",
    "procrs = argcrs.T #Each row correspond to all 1048 redshift data per H0 value\n",
    "\n",
    "colresult = [] #List to collect all the values in the loop\n",
    "argresult = [] #list to arrange the result in 1048*10\n",
    "for i in wa:\n",
    "    for j in Drs:\n",
    "        def F(x):\n",
    "            return 1/m.sqrt(om*(1+x)**3+(1-om)*((1+x)**(3*(1+w0)))*m.exp(-3*i*(0.5-1/(1+x)+0.5/(1+x)**2)))\n",
    "        result, error = quad(F, 0, j) #Generate 1 integral result for each z-value \n",
    "        colresult.append(result) #1048*10 integral values for each redshift z value\n",
    "argresult = np.array(colresult).reshape([262,K],order='F')\n",
    "# Rearrange such that each row yields 1048 integral-values of each omg_m value (i.e. row[0] is integral value for omg_m = 0.1)\n",
    "proint = argresult.T \n",
    "\n",
    "# Defining distance luminosity \n",
    "dL = []\n",
    "for i in range(K):\n",
    "    for j in range(H):    \n",
    "        dLi = np.multiply(procrs[i],proint[j])\n",
    "        dL.append(dLi)\n",
    "\n",
    "# Defining theoretical distance modulus for each omg_m\n",
    "uth = []\n",
    "for i in range(K*H):\n",
    "    uthi = [5*m.log10(j)+25 for j in dL[i]]\n",
    "    uth.append(uthi)\n",
    "Uth = np.array(uth)\n",
    "\n",
    "# Defining observational distance modulus\n",
    "M = -19.239 #absolute magnitude of Type 1a Supernovae\n",
    "Uobs = np.array([i-M for i in Dmb])\n",
    "\n",
    "# Distance residual vector for each omg_m\n",
    "drv = []\n",
    "for i in range(K*H):\n",
    "    drvi = np.subtract(Uobs,Uth[i])\n",
    "    drv.append(drvi)\n",
    "    \n",
    "Dchidict = {}\n",
    "# Obtaining chi2 value at each omg_m\n",
    "Dchi2 = []\n",
    "for i in range(K*H):\n",
    "    cdrv = np.dot(invD,drv[i])\n",
    "    Dchi2i = np.dot(drv[i].T,cdrv)\n",
    "    Dchi2.append(Dchi2i)\n",
    "    Dchidict[Dchi2[i]] = i\n",
    "\n",
    "print('The minimum chi2 value is ',min(Dchidict.keys()))\n",
    "print('The ith value for minimum chi2 is ',Dchidict[min(Dchidict.keys())])\n",
    "print('The H0 value for minimum chi2 is ',H0[int(Dchidict[min(Dchidict.keys())]/K)])\n",
    "print('The wa value for minimum chi2 is ',wa[Dchidict[min(Dchidict.keys())]-int(Dchidict[min(Dchidict.keys())]/K)*K])"
   ]
  },
  {
   "cell_type": "code",
   "execution_count": 24,
   "metadata": {},
   "outputs": [
    {
     "data": {
      "image/png": "[encoded data removed]",
      "text/plain": [
       "<Figure size 432x288 with 2 Axes>"
      ]
     },
     "metadata": {
      "needs_background": "light"
     },
     "output_type": "display_data"
    }
   ],
   "source": [
    "# Creating chi2 contours\n",
    "\n",
    "Dchi = np.array(Dchi2).reshape(100,100)\n",
    "Wa, h0 = np.meshgrid(wa, H0)\n",
    "\n",
    "fig,ax=plt.subplots(1,1)\n",
    "cp = ax.contourf(Wa, h0, Dchi, levels=[200,234.55,238.64]) #+2.31; 6.4\n",
    "fig.colorbar(cp)\n",
    "ax.set_title('Constraints on H0 and Wa')\n",
    "ax.set_xlabel('Wa')\n",
    "ax.set_ylabel('Hubble constant (m/s/Mpc)')\n",
    "\n",
    "#plt.xlim([0,1])\n",
    "#plt.ylim([65000,80000])\n",
    "plt.show()"
   ]
  },
  {
   "cell_type": "code",
   "execution_count": null,
   "metadata": {},
   "outputs": [],
   "source": []
  }
 ],
 "metadata": {
  "kernelspec": {
   "display_name": "Python 3",
   "language": "python",
   "name": "python3"
  },
  "language_info": {
   "codemirror_mode": {
    "name": "ipython",
    "version": 3
   },
   "file_extension": ".py",
   "mimetype": "text/x-python",
   "name": "python",
   "nbconvert_exporter": "python",
   "pygments_lexer": "ipython3",
   "version": "3.8.5"
  }
 },
 "nbformat": 4,
 "nbformat_minor": 4
}
