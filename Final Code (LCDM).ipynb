{
 "cells": [
  {
   "cell_type": "markdown",
   "metadata": {},
   "source": [
    "### Content: Pantheon, BAO, CC, Pantheon + BAO, Pantheon + CC, Pantheon + BAO + CC"
   ]
  },
  {
   "cell_type": "code",
   "execution_count": 1,
   "metadata": {},
   "outputs": [],
   "source": [
    "import numpy as np\n",
    "import math as m\n",
    "import scipy.integrate as integrate\n",
    "from scipy.integrate import quad\n",
    "import scipy\n",
    "import matplotlib.pyplot as plt"
   ]
  },
  {
   "cell_type": "markdown",
   "metadata": {},
   "source": [
    "# Pantheon Data"
   ]
  },
  {
   "cell_type": "code",
   "execution_count": 2,
   "metadata": {},
   "outputs": [],
   "source": [
    "# Systematic Covariance Matrix\n",
    "sysmtx = np.genfromtxt(\"sys_full_long.txt\");\n",
    "Csys = sysmtx.reshape([1048,1048],order='F')\n",
    "\n",
    "# Statistical matrix\n",
    "data2 = open(\"lcparamfull_full_long.txt\",'r').readlines()\n",
    "rawstat=[]\n",
    "for x in data2:\n",
    "    rawstat.append(x.split(' ')[5])\n",
    "#ss = np.diag(rawstat)\n",
    "\n",
    "ss = []\n",
    "for i in rawstat: \n",
    "    unstrung = eval(i)\n",
    "    ss.append(unstrung)\n",
    "Dstat = np.diag(ss)\n",
    "D = np.multiply(Dstat,Dstat)\n",
    "\n",
    "# Full covariance matrix\n",
    "C = np.zeros(shape=(1048,1048)) # Creating zero matrix\n",
    "\n",
    "# Iterate through rows\n",
    "for i in range(len(Csys)):\n",
    "   # Iterate through columns\n",
    "   for j in range(len(Csys[0])):\n",
    "       C[i][j] = Csys[i][j] + D[i][j] \n",
    "    \n",
    "# Inverse covariance matrix\n",
    "invC = np.linalg.inv(C)"
   ]
  },
  {
   "cell_type": "markdown",
   "metadata": {},
   "source": [
    "#### *Csys is systematic matrix*\n",
    "#### *D is statistical matrix*\n",
    "#### *C is full covariance matrix*\n",
    "#### *invC is inverse covariance matrix*"
   ]
  },
  {
   "cell_type": "code",
   "execution_count": 4,
   "metadata": {},
   "outputs": [],
   "source": [
    "# Redshift data\n",
    "rawz=[]\n",
    "for x in data2:\n",
    "    rawz.append(x.split(' ')[2])\n",
    "sz = np.array(rawz)\n",
    "#unstring redshift array values\n",
    "rs = []\n",
    "for i in sz: \n",
    "    unstrung = eval(i)\n",
    "    rs.append(unstrung)\n",
    "    \n",
    "# B-band apparent magnitude data \n",
    "rawmb = []\n",
    "for x in data2:\n",
    "    rawmb.append(x.split(' ')[4])\n",
    "smb = np.array(rawmb)\n",
    "#unstring mb array values\n",
    "mb = []\n",
    "for i in smb: \n",
    "    unstrung = eval(i)\n",
    "    mb.append(unstrung)"
   ]
  },
  {
   "cell_type": "markdown",
   "metadata": {},
   "source": [
    "#### *rs is an array of 1048 redshift values*\n",
    "#### *mb is array of 1048 B-band apparent magnitude*"
   ]
  },
  {
   "cell_type": "code",
   "execution_count": 8,
   "metadata": {},
   "outputs": [
    {
     "name": "stdout",
     "output_type": "stream",
     "text": [
      "Number of omg_m data points:100\n",
      "Number of H_0 data points:100\n",
      "The minimum chi2 value is  1026.9364411865622\n",
      "The ith value for minimum chi2 is  5058\n",
      "The H0 value for minimum chi2 is  70050.50505050505\n",
      "The omg_m value for minimum chi2 is  0.29292929292929293\n"
     ]
    }
   ],
   "source": [
    "# Pantheon Data \n",
    "\n",
    "# Defining constants\n",
    "K = int(input('Number of omg_m data points:'))\n",
    "H = int(input('Number of H_0 data points:'))\n",
    "c = 2.998*10**8 #Speed of light (m/s)\n",
    "H0 = np.linspace(65000,75000,H) #Chosen Hubble constant value (m/s/Mpc)\n",
    "\n",
    "crs = []\n",
    "for i in H0:\n",
    "    for j in rs:\n",
    "        crsi = c*(1+j)/i \n",
    "        crs.append(crsi)\n",
    "argcrs = np.array(crs).reshape([1048,H],order='F')\n",
    "procrs = argcrs.T #Each row correspond to all 1048 redshift data per H0 value\n",
    "\n",
    "omg_m = np.linspace(0,0.5,K)\n",
    "colresult = [] #List to collect all the values in the loop\n",
    "argresult = [] #list to arrange the result in 1048*10\n",
    "for i in omg_m:\n",
    "    for j in rs:\n",
    "        def F(x):\n",
    "            return 1/m.sqrt(i*(1+x)**3+(1-i))\n",
    "        result, error = quad(F, 0, j) #Generate 1 integral result for each z-value \n",
    "        colresult.append(result) #1048*10 integral values for each redshift z value\n",
    "argresult = np.array(colresult).reshape([1048,K],order='F')\n",
    "# Rearrange such that each row yields 1048 integral-values of each omg_m value (i.e. row[0] is integral value for omg_m = 0.1)\n",
    "proint = argresult.T \n",
    "\n",
    "# Defining distance luminosity \n",
    "dL = []\n",
    "for i in range(K):\n",
    "    for j in range(H):    \n",
    "        dLi = np.multiply(procrs[i],proint[j])\n",
    "        dL.append(dLi)\n",
    "\n",
    "# Defining theoretical distance modulus for each omg_m\n",
    "uth = []\n",
    "for i in range(K*H):\n",
    "    uthi = [5*m.log10(j)+25 for j in dL[i]]\n",
    "    uth.append(uthi)\n",
    "Uth = np.array(uth)\n",
    "\n",
    "# Defining observational distance modulus\n",
    "M = -19.35 #absolute magnitude of Type 1a Supernovae\n",
    "Uobs = np.array([i-M for i in mb])\n",
    "\n",
    "# Distance residual vector for each omg_m\n",
    "drv = []\n",
    "for i in range(K*H):\n",
    "    drvi = np.subtract(Uobs,Uth[i])\n",
    "    drv.append(drvi)\n",
    "    \n",
    "chidict = {}\n",
    "# Obtaining chi2 value at each omg_m\n",
    "chi2 = []\n",
    "for i in range(K*H):\n",
    "    cdrv = np.dot(invC,drv[i])\n",
    "    chi2i = np.dot(drv[i].T,cdrv)\n",
    "    chi2.append(chi2i)\n",
    "    chidict[chi2[i]] = i\n",
    "\n",
    "print('The minimum chi2 value is ',min(chidict.keys()))\n",
    "print('The ith value for minimum chi2 is ',chidict[min(chidict.keys())])\n",
    "print('The H0 value for minimum chi2 is ',H0[int(chidict[min(chidict.keys())]/K)])\n",
    "print('The omg_m value for minimum chi2 is ',omg_m[chidict[min(chidict.keys())]-int(chidict[min(chidict.keys())]/K)*K])"
   ]
  },
  {
   "cell_type": "code",
   "execution_count": 9,
   "metadata": {},
   "outputs": [
    {
     "name": "stdout",
     "output_type": "stream",
     "text": [
      "The upper end H0 value is  70858.58585858587\n",
      "The lower end H0 value is  69141.41414141413\n",
      "H0 + 808.0808080808201\n",
      "H0 - 909.0909090909117\n",
      "The upper end omg_m value is  0.3434343434343435\n",
      "The lower end omg_m value is  0.2474747474747475\n",
      "omg_m + 0.05050505050505055\n",
      "omg_m - 0.04545454545454544\n"
     ]
    }
   ],
   "source": [
    "# Find lowest and highest H0 and Om values \n",
    "\n",
    "def condition(x): return (x <= min(chidict.keys())+6.4)\n",
    "output = [idx for idx, element in enumerate(chi2) if condition(element)]\n",
    "#print(output)\n",
    "\n",
    "print('The upper end H0 value is ',H0[int(max(output)/K)])\n",
    "print('The lower end H0 value is ',H0[int(min(output)/K)])\n",
    "print('H0 +',H0[int(max(output)/K)] - H0[int(chidict[min(chidict.keys())]/K)])\n",
    "print('H0 -',H0[int(chidict[min(chidict.keys())]/K)] - H0[int(min(output)/K)])\n",
    "print('The upper end omg_m value is ',omg_m[min(output)-int(min(output)/K)*K])\n",
    "print('The lower end omg_m value is ',omg_m[max(output)-int(max(output)/K)*K])\n",
    "print('omg_m +',omg_m[min(output)-int(min(output)/K)*K] - omg_m[chidict[min(chidict.keys())]-int(chidict[min(chidict.keys())]/K)*K])\n",
    "print('omg_m -',omg_m[chidict[min(chidict.keys())]-int(chidict[min(chidict.keys())]/K)*K] - omg_m[max(output)-int(max(output)/K)*K])"
   ]
  },
  {
   "cell_type": "markdown",
   "metadata": {},
   "source": [
    "## Pantheon Contours (H0 vs Om)"
   ]
  },
  {
   "cell_type": "code",
   "execution_count": 10,
   "metadata": {},
   "outputs": [
    {
     "data": {
      "image/png": "[encoded data removed]",
      "text/plain": [
       "<Figure size 432x288 with 2 Axes>"
      ]
     },
     "metadata": {
      "needs_background": "light"
     },
     "output_type": "display_data"
    }
   ],
   "source": [
    "# Creating chi2 contours\n",
    "\n",
    "chi = np.array(chi2).reshape(100,100)\n",
    "om, h0 = np.meshgrid(omg_m, H0)\n",
    "\n",
    "fig,ax=plt.subplots(1,1)\n",
    "cp = ax.contourf(om, h0, chi,levels=[1000,1029.25,1033.34]) #+2.31; 6.4\n",
    "fig.colorbar(cp)\n",
    "ax.set_title('Constraints on H0 and omega m')\n",
    "ax.set_xlabel('Omega m')\n",
    "ax.set_ylabel('Hubble constant (m/s/Mpc)')\n",
    "\n",
    "#plt.xlim([0,1])\n",
    "#plt.ylim([65000,80000])\n",
    "plt.show()"
   ]
  },
  {
   "cell_type": "markdown",
   "metadata": {},
   "source": [
    "# BAO Data"
   ]
  },
  {
   "cell_type": "code",
   "execution_count": 11,
   "metadata": {},
   "outputs": [],
   "source": [
    "# New Covariance Matrix (Cao 2019)\n",
    "BaoC = np.array([[624.707, 23.729, 325.332, 8.34963, 157.386, 3.57778],\n",
    "              [23.729, 5.60873, 11.6429, 2.33996, 6.39263, 0.968056],\n",
    "              [325.332, 11.6429, 905.777, 29.3392, 515.271, 14.1013],\n",
    "              [8.34963, 2.33996, 29.3392, 5.42327, 16.1422, 2.85334],\n",
    "              [157.386, 6.39263, 515.271, 16.1422, 1375.12, 40.4327],\n",
    "              [3.57778, 0.968056, 14.1013, 2.85334, 40.4327, 6.25936]])\n",
    "\n",
    "# Inverse covariance\n",
    "invBC = np.linalg.inv(BaoC)\n",
    "\n",
    "# Measurement values for z = 0.38, 0.51, 0.61 (Order: Dm,Hz,Dm,Hz,Dm,Hz)\n",
    "Aobs = np.array([1512.39, 81.2087, 1975.22, 90.9029, 2306.68, 98.9647])"
   ]
  },
  {
   "cell_type": "markdown",
   "metadata": {},
   "source": [
    "#### *BaoC is covariance matrix of BAO (6)*\n",
    "#### *invBC is inverse covariance matrix of BAO (6)*\n",
    "#### *Aobs is vector containing 6 measurement values*"
   ]
  },
  {
   "cell_type": "code",
   "execution_count": 12,
   "metadata": {},
   "outputs": [
    {
     "name": "stdout",
     "output_type": "stream",
     "text": [
      "The minimum chi2 value is  2.063009236358911\n",
      "The ith value for minimum chi2 is  1572\n",
      "The H0 value for minimum chi2 is  66515.15151515152\n",
      "The omg_m value for minimum chi2 is  0.36363636363636365\n"
     ]
    }
   ],
   "source": [
    "# BAO Data\n",
    "\n",
    "# Redshift values of BAO (6)\n",
    "Brs = np.array([0.38,0.51,0.61])\n",
    "\n",
    "# c/H0 values for various H0\n",
    "CH0 = []\n",
    "for i in H0:\n",
    "    ch0i = c/i \n",
    "    CH0.append(ch0i)\n",
    "ch0 = np.array(CH0) # H-number of c/H0 values\n",
    "\n",
    "# Obtaining integral values for 3 redshift values, for all omg_m values\n",
    "Bcolresult = [] # List to collect all the values in the loop\n",
    "Bargresult = [] # list to arrange the result in 3*K\n",
    "for i in omg_m:\n",
    "    for j in Brs:\n",
    "        def F(x):\n",
    "            return 1/m.sqrt(i*(1+x)**3+(1-i))\n",
    "        result, error = quad(F, 0, j) #Generate 1 integral result for each z-value \n",
    "        Bcolresult.append(result) #3*K integral values for each redshift z value\n",
    "Bargresult = np.array(Bcolresult).reshape([3,K],order='F')\n",
    "# Rearrange such that each row yields 3 integral-values of each omg_m value (i.e. row[0] is integral value for omg_m = 0.0)\n",
    "Bproint = Bargresult.T \n",
    "\n",
    "# Obtaining dM for each omg_m value for each H0 value \n",
    "dM = []\n",
    "for i in range(H):\n",
    "    for j in range(K):    \n",
    "        dMi = np.multiply(ch0[i],Bproint[j])\n",
    "        dM.append(dMi)\n",
    "# First K rows correspond omg_m from 0 to 0.5, H0 = 65000\n",
    "\n",
    "# Obtaining Hz for each omg_m value for each H0 value\n",
    "Ez = []\n",
    "for i in omg_m:\n",
    "    for j in Brs:\n",
    "        Ezi = m.sqrt(i*(1+j)**3+(1-i))\n",
    "        Ez.append(Ezi)\n",
    "argEz = np.array(Ez).reshape([3,K],order='F')\n",
    "proEz = argEz.T \n",
    "\n",
    "Hz = []\n",
    "for i in H0:\n",
    "    for j in range(len(proEz)):\n",
    "        Hzi = np.multiply(i/1000,proEz[j])\n",
    "        Hz.append(Hzi)\n",
    "# First K rows correspond omg_m from 0 to 0.5, H0 = 65000\n",
    "\n",
    "# BAO Theoretical data (DM,Hz,DM,Hz,DM,Hz)\n",
    "Ath = []\n",
    "for i in range(K*H):\n",
    "    for j in range(3):\n",
    "        Ath.append(dM[i][j])\n",
    "        Ath.append(Hz[i][j])\n",
    "#np.array(Ath).shape\n",
    "argAth = np.array(Ath).reshape([6,K*H],order='F')\n",
    "proAth = argAth.T\n",
    "# Each row consists Ath(6) First K rows correspond omg_m from 0 to 0.5, H0 = 65000\n",
    "\n",
    "# BAO Residual Vector\n",
    "ARV = []\n",
    "for i in range(len(proAth)):\n",
    "    Arvi = np.subtract(proAth[i],Aobs)\n",
    "    ARV.append(Arvi)\n",
    "Arv = np.array(ARV)\n",
    "\n",
    "#chi2 (Dm Hz)\n",
    "Bchidict = {}\n",
    "Bchi2 = []\n",
    "for i in range(len(Arv)):\n",
    "    BcArv = np.dot(invBC,Arv[i])\n",
    "    Bchi2i = np.dot(Arv[i].T,BcArv)\n",
    "    Bchi2.append(Bchi2i)\n",
    "    Bchidict[Bchi2[i]] = i\n",
    "\n",
    "print('The minimum chi2 value is ',min(Bchidict.keys()))\n",
    "print('The ith value for minimum chi2 is ',Bchidict[min(Bchidict.keys())])\n",
    "print('The H0 value for minimum chi2 is ',H0[int(Bchidict[min(Bchidict.keys())]/K)])\n",
    "print('The omg_m value for minimum chi2 is ',omg_m[Bchidict[min(Bchidict.keys())]-int(Bchidict[min(Bchidict.keys())]/K)*K])"
   ]
  },
  {
   "cell_type": "code",
   "execution_count": 37,
   "metadata": {},
   "outputs": [],
   "source": [
    "# rs/Dv (z=0.106 Beutler et al.)\n",
    "# Dv = ((cz/H0)*(Dm^2/Ez))^1/3\n",
    "\n",
    "z1 = 0.106\n",
    "czh1 = [c*z1/i for i in H0]\n",
    "Ez1 = []\n",
    "for i in omg_m:\n",
    "    Ez1i = m.sqrt(i*(1+z1)**3+(1-i))\n",
    "    Ez1.append(Ez1i)\n",
    "\n",
    "czhE1 = []\n",
    "for i in czh1:\n",
    "    for j in Ez1:\n",
    "        czhE1i = i/j\n",
    "        czhE1.append(czhE1i)\n",
    "\n",
    "# Obtaining dM\n",
    "z1result = []\n",
    "for i in omg_m:\n",
    "    def F(x):\n",
    "        return 1/m.sqrt(i*(1+x)**3+(1-i))\n",
    "    result, error = quad(F, 0, z1)  \n",
    "    z1result.append(result) # Integral of 1/Ez\n",
    "\n",
    "dM1 = []\n",
    "for i in H0:\n",
    "    for j in z1result:\n",
    "        dM1i = (c*j/i)**2\n",
    "        dM1.append(dM1i) # [(c/H0)*Integral]^2\n",
    "\n",
    "Dv1i = np.multiply(czhE1,dM1)\n",
    "Ath1 = [147.6/(i**(1/3)) for i in Dv1i]\n",
    "#print(np.array(rsDv).shape)\n",
    "\n",
    "# List of chi2 values for rs/Dv\n",
    "A1 = [(i-0.336)**2 for i in Ath1]\n",
    "chi1 = [i/(0.015**2) for i in A1]\n",
    "\n",
    "# Dv (z=0.15 Ross et al.)\n",
    "# Dv = ((cz/H0)*(Dm^2/Ez))^1/3\n",
    "\n",
    "z2 = 0.15\n",
    "czh2 = [c*z2/i for i in H0]\n",
    "Ez2 = []\n",
    "for i in omg_m:\n",
    "    Ez2i = m.sqrt(i*(1+z2)**3+(1-i))\n",
    "    Ez2.append(Ez2i)\n",
    "\n",
    "czhE2 = []\n",
    "for i in czh2:\n",
    "    for j in Ez2:\n",
    "        czhE2i = i/j\n",
    "        czhE2.append(czhE2i)\n",
    "\n",
    "# Obtaining dM\n",
    "z2result = []\n",
    "for i in omg_m:\n",
    "    def F(x):\n",
    "        return 1/m.sqrt(i*(1+x)**3+(1-i))\n",
    "    result, error = quad(F, 0, z2) #Generate 1 integral result for each z-value \n",
    "    z2result.append(result) #1048*10 integral values for each redshift z value\n",
    "\n",
    "dM2 = []\n",
    "for i in H0:\n",
    "    for j in z2result:\n",
    "        dM2i = (c*j/i)**2\n",
    "        dM2.append(dM2i)\n",
    "\n",
    "Dv2i = np.multiply(czhE2,dM2)\n",
    "Ath2 = [(i**(1/3)) for i in Dv2i]\n",
    "\n",
    "# List of chi2 values for Dv\n",
    "A2 = [(i-664)**2 for i in Ath2]\n",
    "chi02 = [i/(25**2) for i in A2]\n",
    "\n",
    "# Dv (z=1.52 Ata et al.)\n",
    "# Dv = ((cz/H0)*(Dm^2/Ez))^1/3\n",
    "\n",
    "z3 = 1.52\n",
    "czh3 = [c*z3/i for i in H0]\n",
    "Ez3 = []\n",
    "for i in omg_m:\n",
    "    Ez3i = m.sqrt(i*(1+z3)**3+(1-i))\n",
    "    Ez3.append(Ez3i)\n",
    "\n",
    "czhE3 = []\n",
    "for i in czh3:\n",
    "    for j in Ez3:\n",
    "        czhE3i = i/j\n",
    "        czhE3.append(czhE3i)\n",
    "\n",
    "# Obtaining dM\n",
    "z3result = []\n",
    "for i in omg_m:\n",
    "    def F(x):\n",
    "        return 1/m.sqrt(i*(1+x)**3+(1-i))\n",
    "    result, error = quad(F, 0, z3) #Generate 1 integral result for each z-value \n",
    "    z3result.append(result) #1048*10 integral values for each redshift z value\n",
    "\n",
    "dM3 = []\n",
    "for i in H0:\n",
    "    for j in z3result:\n",
    "        dM3i = (c*j/i)**2\n",
    "        dM3.append(dM3i)\n",
    "\n",
    "Dv3i = np.multiply(czhE3,dM3)\n",
    "Ath3 = [(i**(1/3)) for i in Dv3i]\n",
    "\n",
    "# List of chi2 values for Dv\n",
    "A3 = [(i-3843)**2 for i in Ath3]\n",
    "chi3 = [i/(147**2) for i in A3]\n",
    "\n",
    "# dM^0.3*dH^0.7/rs (z=2.33 Bautista et al.)\n",
    "# DH = c/H(z)\n",
    "# H(z) = H0[sqrt(omg_m*(1+z)^3+omg_l)]\n",
    "# DM = (c/H0)*Integral(1/Ez)\n",
    "\n",
    "z4 = 2.33\n",
    "\n",
    "# Obtaining dH\n",
    "dH = []\n",
    "for i in H0:\n",
    "    for j in omg_m:\n",
    "        dHi = c/(i*m.sqrt(j*(1+z4)**3+(1-j)))\n",
    "        dH.append(dHi)\n",
    "dH4 = [i**0.7 for i in dH]\n",
    "\n",
    "# Obtaining dM\n",
    "z4result = []\n",
    "for i in omg_m:\n",
    "    def F(x):\n",
    "        return 1/(m.sqrt(i*(1+x)**3+(1-i)))\n",
    "    result, error = quad(F, 0, z4)\n",
    "    z4result.append(result) # Integral of 1/Ez \n",
    "    \n",
    "dM4 = []\n",
    "for i in H0:\n",
    "    for j in z4result:\n",
    "        dM4i = (c*j/i)**0.3\n",
    "        dM4.append(dM4i) # dM^(0.3)\n",
    "        \n",
    "dMH = np.multiply(dM4,dH4)\n",
    "Ath4 = [i/147.6 for i in dMH]\n",
    "\n",
    "# List of chi2 values for dM^0.3*dH^0.7/rs\n",
    "A4 = [(i-13.94)**2 for i in Ath4]\n",
    "chi4 = [i/(0.35**2) for i in A4]\n",
    "\n",
    "# c/(rs*Hz) (z=2.36 Font-Ribera et al.)\n",
    "z5 = 2.36\n",
    "\n",
    "Ath5 = []\n",
    "for i in H0:\n",
    "    for j in omg_m:\n",
    "        crsHzi = c/(147.6*i*m.sqrt(j*(1+z5)**3+(1-j)))\n",
    "        Ath5.append(crsHzi)\n",
    "\n",
    "# List of chi2 values for c/(rs*Hz)\n",
    "A5 = [(i-9)**2 for i in Ath5]\n",
    "chi5 = [i/(0.3**2) for i in A5]\n"
   ]
  },
  {
   "cell_type": "code",
   "execution_count": 38,
   "metadata": {},
   "outputs": [
    {
     "name": "stdout",
     "output_type": "stream",
     "text": [
      "The minimum chi2 value is  8.077548996657455\n",
      "The ith value for minimum chi2 is  3756\n",
      "The H0 value for minimum chi2 is  68737.37373737374\n",
      "The omg_m value for minimum chi2 is  0.2828282828282829\n"
     ]
    }
   ],
   "source": [
    "chi12 = np.add(chi1, chi02)\n",
    "chi123 = np.add(chi12, chi3)\n",
    "chi1234 = np.add(chi123, chi4)\n",
    "xBchi2 = np.add(chi1234, chi5)\n",
    "\n",
    "CBchi2 = np.add(Bchi2,xBchi2)\n",
    "CBchidict = {}\n",
    "for i in range(len(CBchi2)):\n",
    "    CBchidict[CBchi2[i]] = i\n",
    "    \n",
    "print('The minimum chi2 value is ',min(CBchidict.keys()))\n",
    "print('The ith value for minimum chi2 is ',CBchidict[min(CBchidict.keys())])\n",
    "print('The H0 value for minimum chi2 is ',H0[int(CBchidict[min(CBchidict.keys())]/K)])\n",
    "print('The omg_m value for minimum chi2 is ',omg_m[CBchidict[min(CBchidict.keys())]-int(CBchidict[min(CBchidict.keys())]/K)*K])"
   ]
  },
  {
   "cell_type": "code",
   "execution_count": 15,
   "metadata": {},
   "outputs": [
    {
     "name": "stdout",
     "output_type": "stream",
     "text": [
      "The upper end H0 value is  70959.59595959596\n",
      "The lower end H0 value is  66414.14141414141\n",
      "H0 + 2222.222222222219\n",
      "H0 - 2323.232323232325\n",
      "The upper end omg_m value is  0.32323232323232326\n",
      "The lower end omg_m value is  0.2474747474747475\n",
      "omg_m + 0.04040404040404039\n",
      "omg_m - 0.03535353535353539\n"
     ]
    }
   ],
   "source": [
    "# Find lowest and highest H0 and Om values \n",
    "\n",
    "def condition(x): return (x <= min(CBchidict.keys())+6.4)\n",
    "output = [idx for idx, element in enumerate(CBchi2) if condition(element)]\n",
    "#print(output)\n",
    "\n",
    "print('The upper end H0 value is ',H0[int(max(output)/K)])\n",
    "print('The lower end H0 value is ',H0[int(min(output)/K)])\n",
    "print('H0 +',H0[int(max(output)/K)] - H0[int(CBchidict[min(CBchidict.keys())]/K)])\n",
    "print('H0 -',H0[int(CBchidict[min(CBchidict.keys())]/K)] - H0[int(min(output)/K)])\n",
    "print('The upper end omg_m value is ',omg_m[min(output)-int(min(output)/K)*K])\n",
    "print('The lower end omg_m value is ',omg_m[max(output)-int(max(output)/K)*K])\n",
    "print('omg_m +',omg_m[min(output)-int(min(output)/K)*K] - omg_m[CBchidict[min(CBchidict.keys())]-int(CBchidict[min(CBchidict.keys())]/K)*K])\n",
    "print('omg_m -',omg_m[CBchidict[min(CBchidict.keys())]-int(CBchidict[min(CBchidict.keys())]/K)*K] - omg_m[max(output)-int(max(output)/K)*K])"
   ]
  },
  {
   "cell_type": "markdown",
   "metadata": {},
   "source": [
    "# BAO Contour"
   ]
  },
  {
   "cell_type": "code",
   "execution_count": 16,
   "metadata": {},
   "outputs": [
    {
     "data": {
      "image/png": "[encoded data removed]",
      "text/plain": [
       "<Figure size 432x288 with 2 Axes>"
      ]
     },
     "metadata": {
      "needs_background": "light"
     },
     "output_type": "display_data"
    }
   ],
   "source": [
    "# Creating Bchi2 contours\n",
    "\n",
    "CBchi = np.array(CBchi2).reshape(100,100)\n",
    "om, h0 = np.meshgrid(omg_m, H0)\n",
    "\n",
    "fig,ax=plt.subplots(1,1)\n",
    "cp = ax.contourf(om, h0, CBchi,levels=[0,10.39,14.48]) #+2.31; 6.4\n",
    "fig.colorbar(cp)\n",
    "ax.set_title('Constraints on H0 and omega m')\n",
    "ax.set_xlabel('Omega m')\n",
    "ax.set_ylabel('Hubble constant (m/s/Mpc)')\n",
    "\n",
    "#plt.xlim([0,1])\n",
    "#plt.ylim([65000,80000])\n",
    "plt.show()"
   ]
  },
  {
   "cell_type": "markdown",
   "metadata": {},
   "source": [
    "# Pantheon + BAO"
   ]
  },
  {
   "cell_type": "code",
   "execution_count": 17,
   "metadata": {},
   "outputs": [
    {
     "name": "stdout",
     "output_type": "stream",
     "text": [
      "The maximum likelihood value is  5.355190473608896e-227\n",
      "The ith value for maximum likelihood is  5353\n",
      "The H0 value for maximum likelihood is  70353.53535353535\n",
      "The omg_m value for maximum likelihood is  0.2676767676767677\n"
     ]
    }
   ],
   "source": [
    "# Likelihood from Pantheon chi2\n",
    "Lpan = []\n",
    "for i in chi2:\n",
    "    Lpani = np.exp(-i/2)\n",
    "    Lpan.append(Lpani)\n",
    "    \n",
    "# Likelihood from BAO chi2    \n",
    "LBAO = []\n",
    "for i in CBchi2:\n",
    "    LBAOi = np.exp(-i/2)\n",
    "    LBAO.append(LBAOi)\n",
    "\n",
    "# Combined likelihood (Pantheon+BAO)    \n",
    "LpanBAO = np.multiply(Lpan,LBAO)\n",
    "panBAOdict = {}\n",
    "for i in range(len(LpanBAO)):\n",
    "    panBAOdict[LpanBAO[i]] = i\n",
    "    \n",
    "print('The maximum likelihood value is ',max(panBAOdict.keys()))\n",
    "print('The ith value for maximum likelihood is ',panBAOdict[max(panBAOdict.keys())])\n",
    "print('The H0 value for maximum likelihood is ',H0[int(panBAOdict[max(panBAOdict.keys())]/K)])\n",
    "print('The omg_m value for maximum likelihood is ',omg_m[panBAOdict[max(panBAOdict.keys())]-int(panBAOdict[max(panBAOdict.keys())]/K)*K])"
   ]
  },
  {
   "cell_type": "code",
   "execution_count": 19,
   "metadata": {},
   "outputs": [
    {
     "name": "stdout",
     "output_type": "stream",
     "text": [
      "The minimum chi2 value is  1042.0174996741598\n",
      "The ith value for minimum chi2 is  5353\n",
      "The H0 value for minimum chi2 is  70353.53535353535\n",
      "The w value for minimum chi2 is  0.2676767676767677\n"
     ]
    }
   ],
   "source": [
    "# Finding minimum chi2\n",
    "\n",
    "addpBchi = np.add(chi2,CBchi2)\n",
    "\n",
    "pBdict = {}\n",
    "for i in range(len(addpBchi)):\n",
    "    pBdict[addpBchi[i]] = i\n",
    "\n",
    "print('The minimum chi2 value is ',min(pBdict.keys()))\n",
    "print('The ith value for minimum chi2 is ',pBdict[min(pBdict.keys())])\n",
    "print('The H0 value for minimum chi2 is ',H0[int(pBdict[min(pBdict.keys())]/K)])\n",
    "print('The w value for minimum chi2 is ',omg_m[pBdict[min(pBdict.keys())]-int(pBdict[min(pBdict.keys())]/K)*K])"
   ]
  },
  {
   "cell_type": "markdown",
   "metadata": {},
   "source": [
    "# Pantheon + BAO Contour"
   ]
  },
  {
   "cell_type": "code",
   "execution_count": 20,
   "metadata": {},
   "outputs": [
    {
     "data": {
      "image/png": "[encoded data removed]",
      "text/plain": [
       "<Figure size 432x288 with 2 Axes>"
      ]
     },
     "metadata": {
      "needs_background": "light"
     },
     "output_type": "display_data"
    }
   ],
   "source": [
    "# Plotting contours using chi2 addition\n",
    "\n",
    "addpBchi = np.add(chi2,CBchi2)\n",
    "\n",
    "pBchi = np.array(addpBchi).reshape(100,100)\n",
    "om, h0 = np.meshgrid(omg_m, H0)\n",
    "\n",
    "fig,ax=plt.subplots(1,1)\n",
    "cp = ax.contourf(om, h0, pBchi,levels=[1000,1044.33,1048.42]) #+2.31; 6.4\n",
    "fig.colorbar(cp)\n",
    "ax.set_title('Constraints on H0 and omega m')\n",
    "ax.set_xlabel('Omega m')\n",
    "ax.set_ylabel('Hubble constant (m/s/Mpc)')\n",
    "\n",
    "#plt.xlim([0,1])\n",
    "#plt.ylim([65000,80000])\n",
    "plt.show()"
   ]
  },
  {
   "cell_type": "code",
   "execution_count": 21,
   "metadata": {},
   "outputs": [
    {
     "name": "stdout",
     "output_type": "stream",
     "text": [
      "The upper end H0 value is  70858.58585858587\n",
      "The lower end H0 value is  69848.48484848485\n",
      "H0 + 505.0505050505162\n",
      "H0 - 505.05050505050167\n",
      "The upper end omg_m value is  0.2828282828282829\n",
      "The lower end omg_m value is  0.25252525252525254\n",
      "omg_m + 0.015151515151515194\n",
      "omg_m - 0.015151515151515138\n"
     ]
    }
   ],
   "source": [
    "# Find lowest and highest H0 and Om values \n",
    "\n",
    "pBchidict = {}\n",
    "for i in range(len(addpBchi)):\n",
    "    pBchidict[addpBchi[i]] = i\n",
    "\n",
    "def condition(x): return (x <= min(pBchidict.keys())+6.4)\n",
    "output = [idx for idx, element in enumerate(addpBchi) if condition(element)]\n",
    "#print(output)\n",
    "\n",
    "print('The upper end H0 value is ',H0[int(max(output)/K)])\n",
    "print('The lower end H0 value is ',H0[int(min(output)/K)])\n",
    "print('H0 +',H0[int(max(output)/K)] - H0[int(pBchidict[min(pBchidict.keys())]/K)])\n",
    "print('H0 -',H0[int(pBchidict[min(pBchidict.keys())]/K)] - H0[int(min(output)/K)])\n",
    "print('The upper end omg_m value is ',omg_m[min(output)-int(min(output)/K)*K])\n",
    "print('The lower end omg_m value is ',omg_m[max(output)-int(max(output)/K)*K])\n",
    "print('omg_m +',omg_m[min(output)-int(min(output)/K)*K] - omg_m[pBchidict[min(pBchidict.keys())]-int(pBchidict[min(pBchidict.keys())]/K)*K])\n",
    "print('omg_m -',omg_m[pBchidict[min(pBchidict.keys())]-int(pBchidict[min(pBchidict.keys())]/K)*K] - omg_m[max(output)-int(max(output)/K)*K])"
   ]
  },
  {
   "cell_type": "markdown",
   "metadata": {},
   "source": [
    "# CC Data"
   ]
  },
  {
   "cell_type": "code",
   "execution_count": 22,
   "metadata": {},
   "outputs": [],
   "source": [
    "# Cosmic Chronometer Value Storage (Observational)\n",
    "\n",
    "# 31 Redshift values for CC\n",
    "ccz = np.array([0.07, 0.09, 0.12, 0.17, 0.179, 0.199, 0.20, 0.27, 0.28, 0.352, 0.3802, \n",
    "             0.4, 0.4004, 0.4247, 0.4479, 0.47, 0.4783, 0.48, 0.593, 0.68, 0.781,\n",
    "            0.875, 0.88, 0.90, 1.037, 1.3, 1.363, 1.43, 1.53, 1.75, 1.965])\n",
    "\n",
    "# 31 Hz values for CC\n",
    "ccHz = np.array([69, 69, 68.6, 83, 75, 75, 72.9, 77, 88.8, 83, 83, \n",
    "              95, 77, 87.1, 92.8, 89, 80.9, 97, 104, 92, 105, \n",
    "              125, 90, 117, 154, 168, 160, 177, 140, 202, 186.5])\n",
    "\n",
    "# 31 Sigma H values for CC\n",
    "sigH = np.array([19.6, 12, 26.2, 8, 4, 5, 29.6, 14, 36.6, 14, 13.5,\n",
    "                17, 10.2, 11.2, 12.9, 50, 9, 62, 13, 8, 12,\n",
    "                17, 40, 23, 20, 17, 33.6, 18, 14, 40, 50.4])"
   ]
  },
  {
   "cell_type": "markdown",
   "metadata": {},
   "source": [
    "#### *ccz is redshift values of CC*\n",
    "#### *ccHz is Hz values of CC*\n",
    "#### *sigH is the sigma values of CC*"
   ]
  },
  {
   "cell_type": "code",
   "execution_count": 23,
   "metadata": {},
   "outputs": [
    {
     "name": "stdout",
     "output_type": "stream",
     "text": [
      "The minimum chi2 value is  14.506658312632347\n",
      "The ith value for minimum chi2 is  3263\n",
      "The H0 value for minimum chi2 is  68232.32323232324\n",
      "The omg_m value for minimum chi2 is  0.31818181818181823\n"
     ]
    }
   ],
   "source": [
    "# Obtaining Ez value for each Omg_m \n",
    "\n",
    "ccEz = []\n",
    "for i in omg_m:\n",
    "    for j in ccz:\n",
    "        ccEzi = m.sqrt(i*(1+j)**3+(1-i))\n",
    "        ccEz.append(ccEzi)\n",
    "argccEz = np.array(ccEz).reshape([31,K],order='F')\n",
    "proccEz = argccEz.T \n",
    "\n",
    "# Obtaining Ath value for each H0 and Omg_m \n",
    "ccAth = []\n",
    "for i in H0:\n",
    "    for j in range(len(proccEz)):\n",
    "        ccAthi = (i/1000)*proccEz[j]\n",
    "        ccAth.append(ccAthi)\n",
    "\n",
    "# Obtaining (Ath-Aobs)^2 \n",
    "Asub = []\n",
    "for i in range(K*H):\n",
    "    Asubi = ccAth[i]-ccHz\n",
    "    Asub.append(Asubi)\n",
    "A2 = [i**2 for i in Asub]\n",
    "\n",
    "# Defining sigma_H square (31 values)\n",
    "sigH2 = [i**2 for i in sigH]\n",
    "\n",
    "Asig = []\n",
    "for i in range(K*H):\n",
    "    Asigi = A2[i]/sigH2\n",
    "    Asig.append(Asigi)\n",
    "\n",
    "Cchidict ={}\n",
    "Cchi2 = []\n",
    "for i in range(K*H):\n",
    "    Cchi2i = sum(Asig[i])\n",
    "    Cchi2.append(Cchi2i)\n",
    "    Cchidict[Cchi2[i]] = i\n",
    "\n",
    "print('The minimum chi2 value is ',min(Cchidict.keys()))\n",
    "print('The ith value for minimum chi2 is ',Cchidict[min(Cchidict.keys())])\n",
    "print('The H0 value for minimum chi2 is ',H0[int(Cchidict[min(Cchidict.keys())]/K)])\n",
    "print('The omg_m value for minimum chi2 is ',omg_m[Cchidict[min(Cchidict.keys())]-int(Cchidict[min(Cchidict.keys())]/K)*K])"
   ]
  },
  {
   "cell_type": "code",
   "execution_count": 24,
   "metadata": {},
   "outputs": [
    {
     "name": "stdout",
     "output_type": "stream",
     "text": [
      "The upper end H0 value is  75000.0\n",
      "The lower end H0 value is  65000.0\n",
      "H0 + 6767.676767676763\n",
      "H0 - 3232.323232323237\n",
      "The upper end omg_m value is  0.30303030303030304\n",
      "The lower end omg_m value is  0.2474747474747475\n",
      "omg_m + -0.015151515151515194\n",
      "omg_m - 0.07070707070707075\n"
     ]
    }
   ],
   "source": [
    "# Find lowest and highest H0 and Om values \n",
    "\n",
    "def condition(x): return (x <= min(Cchidict.keys())+6.4)\n",
    "output = [idx for idx, element in enumerate(Cchi2) if condition(element)]\n",
    "#print(output)\n",
    "\n",
    "print('The upper end H0 value is ',H0[int(max(output)/K)])\n",
    "print('The lower end H0 value is ',H0[int(min(output)/K)])\n",
    "print('H0 +',H0[int(max(output)/K)] - H0[int(Cchidict[min(Cchidict.keys())]/K)])\n",
    "print('H0 -',H0[int(Cchidict[min(Cchidict.keys())]/K)] - H0[int(min(output)/K)])\n",
    "print('The upper end omg_m value is ',omg_m[min(output)-int(min(output)/K)*K])\n",
    "print('The lower end omg_m value is ',omg_m[max(output)-int(max(output)/K)*K])\n",
    "print('omg_m +',omg_m[min(output)-int(min(output)/K)*K] - omg_m[Cchidict[min(Cchidict.keys())]-int(Cchidict[min(Cchidict.keys())]/K)*K])\n",
    "print('omg_m -',omg_m[Cchidict[min(Cchidict.keys())]-int(Cchidict[min(Cchidict.keys())]/K)*K] - omg_m[max(output)-int(max(output)/K)*K])"
   ]
  },
  {
   "cell_type": "markdown",
   "metadata": {},
   "source": [
    "# CC Contour"
   ]
  },
  {
   "cell_type": "code",
   "execution_count": 26,
   "metadata": {},
   "outputs": [
    {
     "data": {
      "image/png": "[encoded data removed]",
      "text/plain": [
       "<Figure size 432x288 with 2 Axes>"
      ]
     },
     "metadata": {
      "needs_background": "light"
     },
     "output_type": "display_data"
    }
   ],
   "source": [
    "# Plotting contours using chi2 addition\n",
    "\n",
    "Cchi = np.array(Cchi2).reshape(100,100)\n",
    "om, h0 = np.meshgrid(omg_m, H0)\n",
    "\n",
    "fig,ax=plt.subplots(1,1)\n",
    "cp = ax.contourf(om, h0, Cchi,levels=[0,16.82,20.91]) #+2.31; 6.4\n",
    "fig.colorbar(cp)\n",
    "ax.set_title('Constraints on H0 and omega m')\n",
    "ax.set_xlabel('Omega m')\n",
    "ax.set_ylabel('Hubble constant (m/s/Mpc)')\n",
    "\n",
    "#plt.xlim([0,1])\n",
    "#plt.ylim([65000,80000])\n",
    "plt.show()"
   ]
  },
  {
   "cell_type": "markdown",
   "metadata": {},
   "source": [
    "# Pantheon + CC"
   ]
  },
  {
   "cell_type": "code",
   "execution_count": 27,
   "metadata": {},
   "outputs": [
    {
     "name": "stdout",
     "output_type": "stream",
     "text": [
      "The maximum likelihood value is  5.84176625361712e-227\n",
      "The ith value for maximum likelihood is  5058\n",
      "The H0 value for maximum likelihood is  70050.50505050505\n",
      "The omg_m value for maximum likelihood is  0.29292929292929293\n"
     ]
    }
   ],
   "source": [
    "# Likelihood from Pantheon chi2\n",
    "Lpan = []\n",
    "for i in chi2:\n",
    "    Lpani = np.exp(-i/2)\n",
    "    Lpan.append(Lpani)\n",
    "    \n",
    "# Likelihood from CC chi2    \n",
    "LCC = []\n",
    "for i in Cchi2:\n",
    "    LCCi = np.exp(-i/2)\n",
    "    LCC.append(LCCi)\n",
    "\n",
    "# Combined likelihood (Pantheon+CC)    \n",
    "LpanCC = np.multiply(Lpan,LCC)\n",
    "panCCdict = {}\n",
    "for i in range(len(LpanCC)):\n",
    "    panCCdict[LpanCC[i]] = i\n",
    "    \n",
    "print('The maximum likelihood value is ',max(panCCdict.keys()))\n",
    "print('The ith value for maximum likelihood is ',panCCdict[max(panCCdict.keys())])\n",
    "print('The H0 value for maximum likelihood is ',H0[int(panCCdict[max(panCCdict.keys())]/K)])\n",
    "print('The omg_m value for maximum likelihood is ',omg_m[panCCdict[max(panCCdict.keys())]-int(panCCdict[max(panCCdict.keys())]/K)*K])"
   ]
  },
  {
   "cell_type": "code",
   "execution_count": 29,
   "metadata": {},
   "outputs": [
    {
     "name": "stdout",
     "output_type": "stream",
     "text": [
      "The minimum chi2 value is  1041.8435658356927\n",
      "The ith value for minimum chi2 is  5058\n",
      "The H0 value for minimum chi2 is  70050.50505050505\n",
      "The w value for minimum chi2 is  0.29292929292929293\n"
     ]
    }
   ],
   "source": [
    "# Finding minimum chi2\n",
    "\n",
    "addpCchi = np.add(chi2,Cchi2)\n",
    "\n",
    "pCdict = {}\n",
    "for i in range(len(addpCchi)):\n",
    "    pCdict[addpCchi[i]] = i\n",
    "\n",
    "print('The minimum chi2 value is ',min(pCdict.keys()))\n",
    "print('The ith value for minimum chi2 is ',pCdict[min(pCdict.keys())])\n",
    "print('The H0 value for minimum chi2 is ',H0[int(pCdict[min(pCdict.keys())]/K)])\n",
    "print('The w value for minimum chi2 is ',omg_m[pCdict[min(pCdict.keys())]-int(pCdict[min(pCdict.keys())]/K)*K])"
   ]
  },
  {
   "cell_type": "markdown",
   "metadata": {},
   "source": [
    "# Pantheon + CC Contour"
   ]
  },
  {
   "cell_type": "code",
   "execution_count": 31,
   "metadata": {},
   "outputs": [
    {
     "data": {
      "image/png": "[encoded data removed]",
      "text/plain": [
       "<Figure size 432x288 with 2 Axes>"
      ]
     },
     "metadata": {
      "needs_background": "light"
     },
     "output_type": "display_data"
    }
   ],
   "source": [
    "# Plotting contours using chi2 addition\n",
    "\n",
    "addpCchi = np.add(chi2,Cchi2)\n",
    "\n",
    "pCchi = np.array(addpCchi).reshape(100,100)\n",
    "om, h0 = np.meshgrid(omg_m, H0)\n",
    "\n",
    "fig,ax=plt.subplots(1,1)\n",
    "cp = ax.contourf(om, h0, pCchi,levels=[1000,1044.15,1048.24]) #+2.31; 6.4\n",
    "fig.colorbar(cp)\n",
    "ax.set_title('Constraints on H0 and omega m')\n",
    "ax.set_xlabel('Omega m')\n",
    "ax.set_ylabel('Hubble constant (m/s/Mpc)')\n",
    "\n",
    "#plt.xlim([0,1])\n",
    "#plt.ylim([65000,80000])\n",
    "plt.show()"
   ]
  },
  {
   "cell_type": "code",
   "execution_count": 30,
   "metadata": {},
   "outputs": [
    {
     "name": "stdout",
     "output_type": "stream",
     "text": [
      "The upper end H0 value is  70757.57575757576\n",
      "The lower end H0 value is  69242.42424242424\n",
      "H0 + 707.070707070714\n",
      "H0 - 808.0808080808056\n",
      "The upper end omg_m value is  0.3383838383838384\n",
      "The lower end omg_m value is  0.2575757575757576\n",
      "omg_m + 0.04545454545454547\n",
      "omg_m - 0.035353535353535304\n"
     ]
    }
   ],
   "source": [
    "# Find lowest and highest H0 and Om values \n",
    "\n",
    "pCchidict = {}\n",
    "for i in range(len(addpCchi)):\n",
    "    pCchidict[addpCchi[i]] = i\n",
    "\n",
    "def condition(x): return (x <= min(pCchidict.keys())+6.4)\n",
    "output = [idx for idx, element in enumerate(addpCchi) if condition(element)]\n",
    "#print(output)\n",
    "\n",
    "print('The upper end H0 value is ',H0[int(max(output)/K)])\n",
    "print('The lower end H0 value is ',H0[int(min(output)/K)])\n",
    "print('H0 +',H0[int(max(output)/K)] - H0[int(pCchidict[min(pCchidict.keys())]/K)])\n",
    "print('H0 -',H0[int(pCchidict[min(pCchidict.keys())]/K)] - H0[int(min(output)/K)])\n",
    "print('The upper end omg_m value is ',omg_m[min(output)-int(min(output)/K)*K])\n",
    "print('The lower end omg_m value is ',omg_m[max(output)-int(max(output)/K)*K])\n",
    "print('omg_m +',omg_m[min(output)-int(min(output)/K)*K] - omg_m[pCchidict[min(pCchidict.keys())]-int(pCchidict[min(pCchidict.keys())]/K)*K])\n",
    "print('omg_m -',omg_m[pCchidict[min(pCchidict.keys())]-int(pCchidict[min(pCchidict.keys())]/K)*K] - omg_m[max(output)-int(max(output)/K)*K])"
   ]
  },
  {
   "cell_type": "markdown",
   "metadata": {},
   "source": [
    "# Pantheon + BAO + CC"
   ]
  },
  {
   "cell_type": "code",
   "execution_count": 32,
   "metadata": {},
   "outputs": [
    {
     "name": "stdout",
     "output_type": "stream",
     "text": [
      "The maximum likelihood value is  2.4355631092236484e-230\n",
      "The ith value for maximum likelihood is  5254\n",
      "The H0 value for maximum likelihood is  70252.52525252526\n",
      "The omg_m value for maximum likelihood is  0.27272727272727276\n"
     ]
    }
   ],
   "source": [
    "# Likelihood from Pantheon chi2\n",
    "Lpan = []\n",
    "for i in chi2:\n",
    "    Lpani = np.exp(-i/2)\n",
    "    Lpan.append(Lpani)\n",
    "    \n",
    "# Likelihood from BAO chi2    \n",
    "LBAO = []\n",
    "for i in CBchi2:\n",
    "    LBAOi = np.exp(-i/2)\n",
    "    LBAO.append(LBAOi)\n",
    "    \n",
    "# Likelihood from CC chi2    \n",
    "LCC = []\n",
    "for i in Cchi2:\n",
    "    LCCi = np.exp(-i/2)\n",
    "    LCC.append(LCCi)\n",
    "\n",
    "# Combined likelihood (Pantheon+CC)    \n",
    "LpanBAO = np.multiply(Lpan,LBAO)\n",
    "LpanBAOCC = np.multiply(LpanBAO,LCC)\n",
    "panBAOCCdict = {}\n",
    "for i in range(len(LpanBAOCC)):\n",
    "    panBAOCCdict[LpanBAOCC[i]] = i\n",
    "    \n",
    "print('The maximum likelihood value is ',max(panBAOCCdict.keys()))\n",
    "print('The ith value for maximum likelihood is ',panBAOCCdict[max(panBAOCCdict.keys())])\n",
    "print('The H0 value for maximum likelihood is ',H0[int(panBAOCCdict[max(panBAOCCdict.keys())]/K)])\n",
    "print('The omg_m value for maximum likelihood is ',omg_m[panBAOCCdict[max(panBAOCCdict.keys())]-int(panBAOCCdict[max(panBAOCCdict.keys())]/K)*K])"
   ]
  },
  {
   "cell_type": "code",
   "execution_count": 34,
   "metadata": {},
   "outputs": [
    {
     "name": "stdout",
     "output_type": "stream",
     "text": [
      "The minimum chi2 value is  1057.4087868049537\n",
      "The ith value for minimum chi2 is  5254\n",
      "The H0 value for minimum chi2 is  70252.52525252526\n",
      "The w value for minimum chi2 is  0.27272727272727276\n"
     ]
    }
   ],
   "source": [
    "# Finding minimum chi2\n",
    "\n",
    "addpBchi = np.add(chi2,CBchi2)\n",
    "addpBCchi = np.add(addpBchi, Cchi2)\n",
    "\n",
    "pBCdict = {}\n",
    "for i in range(len(addpBCchi)):\n",
    "    pBCdict[addpBCchi[i]] = i\n",
    "\n",
    "print('The minimum chi2 value is ',min(pBCdict.keys()))\n",
    "print('The ith value for minimum chi2 is ',pBCdict[min(pBCdict.keys())])\n",
    "print('The H0 value for minimum chi2 is ',H0[int(pBCdict[min(pBCdict.keys())]/K)])\n",
    "print('The w value for minimum chi2 is ',omg_m[pBCdict[min(pBCdict.keys())]-int(pBCdict[min(pBCdict.keys())]/K)*K])"
   ]
  },
  {
   "cell_type": "markdown",
   "metadata": {},
   "source": [
    "# Pantheon + BAO + CC Contour"
   ]
  },
  {
   "cell_type": "code",
   "execution_count": 36,
   "metadata": {},
   "outputs": [
    {
     "data": {
      "image/png": "[encoded data removed]",
      "text/plain": [
       "<Figure size 432x288 with 2 Axes>"
      ]
     },
     "metadata": {
      "needs_background": "light"
     },
     "output_type": "display_data"
    }
   ],
   "source": [
    "# Plotting contours using chi2 addition\n",
    "\n",
    "addpBchi = np.add(chi2,CBchi2)\n",
    "addpBCchi = np.add(addpBchi,Cchi2)\n",
    "\n",
    "pBCchi = np.array(addpBCchi).reshape(100,100)\n",
    "om, h0 = np.meshgrid(omg_m, H0)\n",
    "\n",
    "fig,ax=plt.subplots(1,1)\n",
    "cp = ax.contourf(om, h0, pBCchi,levels=[1000,1059.72,1063.81]) #+2.31; 6.4\n",
    "fig.colorbar(cp)\n",
    "ax.set_title('Constraints on H0 and omega m')\n",
    "ax.set_xlabel('Omega m')\n",
    "ax.set_ylabel('Hubble constant (m/s/Mpc)')\n",
    "\n",
    "#plt.xlim([0,1])\n",
    "#plt.ylim([65000,80000])\n",
    "plt.show()"
   ]
  },
  {
   "cell_type": "code",
   "execution_count": 35,
   "metadata": {},
   "outputs": [
    {
     "name": "stdout",
     "output_type": "stream",
     "text": [
      "The upper end H0 value is  70858.58585858587\n",
      "The lower end H0 value is  69747.47474747474\n",
      "H0 + 606.0606060606078\n",
      "H0 - 505.0505050505162\n",
      "The upper end omg_m value is  0.29292929292929293\n",
      "The lower end omg_m value is  0.25252525252525254\n",
      "omg_m + 0.020202020202020166\n",
      "omg_m - 0.02020202020202022\n"
     ]
    }
   ],
   "source": [
    "# Find lowest and highest H0 and Om values \n",
    "\n",
    "pBCchidict = {}\n",
    "for i in range(len(addpBCchi)):\n",
    "    pBCchidict[addpBCchi[i]] = i\n",
    "\n",
    "def condition(x): return (x <= min(pBCchidict.keys())+6.4)\n",
    "output = [idx for idx, element in enumerate(addpBCchi) if condition(element)]\n",
    "#print(output)\n",
    "\n",
    "print('The upper end H0 value is ',H0[int(max(output)/K)])\n",
    "print('The lower end H0 value is ',H0[int(min(output)/K)])\n",
    "print('H0 +',H0[int(max(output)/K)] - H0[int(pBCchidict[min(pBCchidict.keys())]/K)])\n",
    "print('H0 -',H0[int(pBCchidict[min(pBCchidict.keys())]/K)] - H0[int(min(output)/K)])\n",
    "print('The upper end omg_m value is ',omg_m[min(output)-int(min(output)/K)*K])\n",
    "print('The lower end omg_m value is ',omg_m[max(output)-int(max(output)/K)*K])\n",
    "print('omg_m +',omg_m[min(output)-int(min(output)/K)*K] - omg_m[pBCchidict[min(pBCchidict.keys())]-int(pBCchidict[min(pBCchidict.keys())]/K)*K])\n",
    "print('omg_m -',omg_m[pBCchidict[min(pBCchidict.keys())]-int(pBCchidict[min(pBCchidict.keys())]/K)*K] - omg_m[max(output)-int(max(output)/K)*K])"
   ]
  },
  {
   "cell_type": "code",
   "execution_count": null,
   "metadata": {},
   "outputs": [],
   "source": []
  }
 ],
 "metadata": {
  "kernelspec": {
   "display_name": "Python 3",
   "language": "python",
   "name": "python3"
  },
  "language_info": {
   "codemirror_mode": {
    "name": "ipython",
    "version": 3
   },
   "file_extension": ".py",
   "mimetype": "text/x-python",
   "name": "python",
   "nbconvert_exporter": "python",
   "pygments_lexer": "ipython3",
   "version": "3.8.5"
  }
 },
 "nbformat": 4,
 "nbformat_minor": 4
}
