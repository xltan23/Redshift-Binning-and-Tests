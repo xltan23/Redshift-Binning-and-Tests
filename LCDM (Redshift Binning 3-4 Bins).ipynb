{
 "cells": [
  {
   "cell_type": "code",
   "execution_count": 2,
   "metadata": {},
   "outputs": [],
   "source": [
    "import numpy as np\n",
    "import math as m\n",
    "import scipy.integrate as integrate\n",
    "from scipy.integrate import quad\n",
    "import scipy\n",
    "import matplotlib.pyplot as plt"
   ]
  },
  {
   "cell_type": "code",
   "execution_count": 3,
   "metadata": {},
   "outputs": [],
   "source": [
    "# Systematic Covariance Matrix\n",
    "sysmtx = np.genfromtxt(\"sys_full_long.txt\");\n",
    "Csys = sysmtx.reshape([1048,1048],order='F')\n",
    "\n",
    "# Statistical matrix\n",
    "data2 = open(\"lcparamfull_full_long.txt\",'r').readlines()\n",
    "rawstat=[]\n",
    "for x in data2:\n",
    "    rawstat.append(x.split(' ')[5])\n",
    "#ss = np.diag(rawstat)\n",
    "\n",
    "ss = []\n",
    "for i in rawstat: \n",
    "    unstrung = eval(i)\n",
    "    ss.append(unstrung)\n",
    "Dstat = np.diag(ss)\n",
    "D = np.multiply(Dstat,Dstat)\n",
    "\n",
    "# Full covariance matrix\n",
    "C = np.zeros(shape=(1048,1048)) # Creating zero matrix\n",
    "\n",
    "# Iterate through rows\n",
    "for i in range(len(Csys)):\n",
    "   # Iterate through columns\n",
    "   for j in range(len(Csys[0])):\n",
    "       C[i][j] = Csys[i][j] + D[i][j] \n",
    "    \n",
    "# Inverse covariance matrix\n",
    "invC = np.linalg.inv(C)"
   ]
  },
  {
   "cell_type": "code",
   "execution_count": 4,
   "metadata": {},
   "outputs": [],
   "source": [
    "# Redshift data\n",
    "rawz=[]\n",
    "for x in data2:\n",
    "    rawz.append(x.split(' ')[2])\n",
    "sz = np.array(rawz)\n",
    "#unstring redshift array values\n",
    "rs = []\n",
    "for i in sz: \n",
    "    unstrung = eval(i)\n",
    "    rs.append(unstrung)\n",
    "    \n",
    "# B-band apparent magnitude data \n",
    "rawmb = []\n",
    "for x in data2:\n",
    "    rawmb.append(x.split(' ')[4])\n",
    "smb = np.array(rawmb)\n",
    "#unstring mb array values\n",
    "mb = []\n",
    "for i in smb: \n",
    "    unstrung = eval(i)\n",
    "    mb.append(unstrung)"
   ]
  },
  {
   "cell_type": "code",
   "execution_count": 25,
   "metadata": {
    "scrolled": true
   },
   "outputs": [
    {
     "name": "stdout",
     "output_type": "stream",
     "text": [
      "Number of omg_m data points:100\n",
      "Number of H_0 data points:100\n",
      "The minimum chi2 value is  1026.9375499106206\n",
      "The ith value for minimum chi2 is  6759\n",
      "The H0 value for minimum chi2 is  73535.35353535354\n",
      "The omg_m value for minimum chi2 is  0.297979797979798\n"
     ]
    }
   ],
   "source": [
    "# Pantheon Data \n",
    "\n",
    "# Defining constants\n",
    "K = int(input('Number of omg_m data points:'))\n",
    "H = int(input('Number of H_0 data points:'))\n",
    "c = 2.998*10**8 #Speed of light (m/s)\n",
    "H0 = np.linspace(60000,80000,H) #Chosen Hubble constant value (m/s/Mpc)\n",
    "\n",
    "crs = []\n",
    "for i in H0:\n",
    "    for j in rs:\n",
    "        crsi = c*(1+j)/i \n",
    "        crs.append(crsi)\n",
    "argcrs = np.array(crs).reshape([1048,H],order='F')\n",
    "procrs = argcrs.T #Each row correspond to all 1048 redshift data per H0 value\n",
    "\n",
    "omg_m = np.linspace(0,0.5,K)\n",
    "colresult = [] #List to collect all the values in the loop\n",
    "argresult = [] #list to arrange the result in 1048*10\n",
    "for i in omg_m:\n",
    "    for j in rs:\n",
    "        def F(x):\n",
    "            return 1/m.sqrt(i*(1+x)**3+(1-i))\n",
    "        result, error = quad(F, 0, j) #Generate 1 integral result for each z-value \n",
    "        colresult.append(result) #1048*10 integral values for each redshift z value\n",
    "argresult = np.array(colresult).reshape([1048,K],order='F')\n",
    "# Rearrange such that each row yields 1048 integral-values of each omg_m value (i.e. row[0] is integral value for omg_m = 0.1)\n",
    "proint = argresult.T \n",
    "\n",
    "# Defining distance luminosity \n",
    "dL = []\n",
    "for i in range(K):\n",
    "    for j in range(H):    \n",
    "        dLi = np.multiply(procrs[i],proint[j])\n",
    "        dL.append(dLi)\n",
    "\n",
    "# Defining theoretical distance modulus for each omg_m\n",
    "uth = []\n",
    "for i in range(K*H):\n",
    "    uthi = [5*m.log10(j)+25 for j in dL[i]]\n",
    "    uth.append(uthi)\n",
    "Uth = np.array(uth)\n",
    "\n",
    "# Defining observational distance modulus\n",
    "M = -19.244 #absolute magnitude of Type 1a Supernovae\n",
    "Uobs = np.array([i-M for i in mb])\n",
    "\n",
    "# Distance residual vector for each omg_m\n",
    "drv = []\n",
    "for i in range(K*H):\n",
    "    drvi = np.subtract(Uobs,Uth[i])\n",
    "    drv.append(drvi)\n",
    "    \n",
    "chidict = {}\n",
    "# Obtaining chi2 value at each omg_m\n",
    "chi2 = []\n",
    "for i in range(K*H):\n",
    "    cdrv = np.dot(invC,drv[i])\n",
    "    chi2i = np.dot(drv[i].T,cdrv)\n",
    "    chi2.append(chi2i)\n",
    "    chidict[chi2[i]] = i\n",
    "\n",
    "print('The minimum chi2 value is ',min(chidict.keys()))\n",
    "print('The ith value for minimum chi2 is ',chidict[min(chidict.keys())])\n",
    "print('The H0 value for minimum chi2 is ',H0[int(chidict[min(chidict.keys())]/K)])\n",
    "print('The omg_m value for minimum chi2 is ',omg_m[chidict[min(chidict.keys())]-int(chidict[min(chidict.keys())]/K)*K])"
   ]
  },
  {
   "cell_type": "code",
   "execution_count": 26,
   "metadata": {},
   "outputs": [
    {
     "name": "stdout",
     "output_type": "stream",
     "text": [
      "The upper end H0 value is  74343.43434343435\n",
      "The lower end H0 value is  72727.27272727274\n",
      "H0 + 808.0808080808056\n",
      "H0 - 808.0808080808056\n",
      "The upper end omg_m value is  0.33333333333333337\n",
      "The lower end omg_m value is  0.2575757575757576\n",
      "omg_m + 0.03535353535353536\n",
      "omg_m - 0.04040404040404039\n"
     ]
    }
   ],
   "source": [
    "# Find lowest and highest H0 and Om values \n",
    "\n",
    "def condition(x): return (x <= min(chidict.keys())+6.4)\n",
    "output = [idx for idx, element in enumerate(chi2) if condition(element)]\n",
    "#print(output)\n",
    "\n",
    "print('The upper end H0 value is ',H0[int(max(output)/K)])\n",
    "print('The lower end H0 value is ',H0[int(min(output)/K)])\n",
    "print('H0 +',H0[int(max(output)/K)] - H0[int(chidict[min(chidict.keys())]/K)])\n",
    "print('H0 -',H0[int(chidict[min(chidict.keys())]/K)] - H0[int(min(output)/K)])\n",
    "print('The upper end omg_m value is ',omg_m[min(output)-int(min(output)/K)*K])\n",
    "print('The lower end omg_m value is ',omg_m[max(output)-int(max(output)/K)*K])\n",
    "print('omg_m +',omg_m[min(output)-int(min(output)/K)*K] - omg_m[chidict[min(chidict.keys())]-int(chidict[min(chidict.keys())]/K)*K])\n",
    "print('omg_m -',omg_m[chidict[min(chidict.keys())]-int(chidict[min(chidict.keys())]/K)*K] - omg_m[max(output)-int(max(output)/K)*K])"
   ]
  },
  {
   "cell_type": "code",
   "execution_count": 27,
   "metadata": {},
   "outputs": [
    {
     "data": {
      "image/png": "[encoded data removed]",
      "text/plain": [
       "<Figure size 432x288 with 2 Axes>"
      ]
     },
     "metadata": {
      "needs_background": "light"
     },
     "output_type": "display_data"
    }
   ],
   "source": [
    "# Creating chi2 contours\n",
    "\n",
    "chi = np.array(chi2).reshape(100,100)\n",
    "om, h0 = np.meshgrid(omg_m, H0)\n",
    "\n",
    "fig,ax=plt.subplots(1,1)\n",
    "cp = ax.contourf(om, h0, chi,levels=[1000,1029.25,1033.34]) #+2.31; 6.4\n",
    "fig.colorbar(cp)\n",
    "ax.set_title('Constraints on H0 and omega m')\n",
    "ax.set_xlabel('Omega m')\n",
    "ax.set_ylabel('Hubble constant (m/s/Mpc)')\n",
    "\n",
    "#plt.xlim([0,1])\n",
    "#plt.ylim([65000,80000])\n",
    "plt.show()"
   ]
  },
  {
   "cell_type": "markdown",
   "metadata": {},
   "source": [
    "# Redshift binning (3 bins)"
   ]
  },
  {
   "cell_type": "code",
   "execution_count": 28,
   "metadata": {},
   "outputs": [
    {
     "data": {
      "text/plain": [
       "350"
      ]
     },
     "execution_count": 28,
     "metadata": {},
     "output_type": "execute_result"
    }
   ],
   "source": [
    "lowrs = []\n",
    "lowmb = []\n",
    "lowi = []\n",
    "medrs = []\n",
    "medmb = []\n",
    "medi = []\n",
    "highrs = []\n",
    "highmb = []\n",
    "highi = []\n",
    "maxrs = []\n",
    "maxmb = []\n",
    "maxi = []\n",
    "\n",
    "for i in range(len(rs)):\n",
    "    if (rs[i] <= 0.177):\n",
    "        lowrs.append(rs[i])\n",
    "        lowmb.append(mb[i])\n",
    "        lowi.append(i)\n",
    "    elif (rs[i] > 0.177 and rs[i] <= 0.33745):\n",
    "        medrs.append(rs[i])\n",
    "        medmb.append(mb[i])\n",
    "        medi.append(i)\n",
    "    else:\n",
    "        highrs.append(rs[i])\n",
    "        highmb.append(mb[i])\n",
    "        highi.append(i)\n",
    "        \n",
    "np.array(highi).size"
   ]
  },
  {
   "cell_type": "code",
   "execution_count": 29,
   "metadata": {},
   "outputs": [],
   "source": [
    "# Covariance for low redshift\n",
    "lowcov = []\n",
    "for i in range(len(lowi)):\n",
    "    for j in range(len(lowi)):\n",
    "        lowcov.append(C[lowi[i]][lowi[j]])\n",
    "lowC = np.array(lowcov).reshape([349,349],order='F')\n",
    "invlow = np.linalg.inv(lowC)\n",
    "\n",
    "# Covariance for med redshift\n",
    "medcov = []\n",
    "for i in range(len(medi)):\n",
    "    for j in range(len(medi)):\n",
    "        medcov.append(C[medi[i]][medi[j]])\n",
    "medC = np.array(medcov).reshape([349,349],order='F')\n",
    "invmed = np.linalg.inv(medC)\n",
    "\n",
    "# Covariance for high redshift\n",
    "highcov = []\n",
    "for i in range(len(highi)):\n",
    "    for j in range(len(highi)):\n",
    "        highcov.append(C[highi[i]][highi[j]])\n",
    "highC = np.array(highcov).reshape([350,350],order='F')\n",
    "invhigh = np.linalg.inv(highC)"
   ]
  },
  {
   "cell_type": "code",
   "execution_count": 30,
   "metadata": {},
   "outputs": [
    {
     "name": "stdout",
     "output_type": "stream",
     "text": [
      "Number of omg_m data points:100\n",
      "Number of H_0 data points:100\n",
      "The minimum chi2 value is  352.0074420832942\n",
      "The ith value for minimum chi2 is  6921\n",
      "The H0 value for minimum chi2 is  73939.39393939394\n",
      "The omg_m value for minimum chi2 is  0.21212121212121213\n"
     ]
    }
   ],
   "source": [
    "# Pantheon Data (Low-Z)\n",
    "\n",
    "# Defining constants\n",
    "K = int(input('Number of omg_m data points:'))\n",
    "H = int(input('Number of H_0 data points:'))\n",
    "c = 2.998*10**8 #Speed of light (m/s)\n",
    "H0 = np.linspace(60000,80000,H) #Chosen Hubble constant value (m/s/Mpc)\n",
    "\n",
    "crs = []\n",
    "for i in H0:\n",
    "    for j in lowrs:\n",
    "        crsi = c*(1+j)/i \n",
    "        crs.append(crsi)\n",
    "argcrs = np.array(crs).reshape([349,H],order='F')\n",
    "procrs = argcrs.T #Each row correspond to all 1048 redshift data per H0 value\n",
    "\n",
    "omg_m = np.linspace(0,1,K)\n",
    "colresult = [] #List to collect all the values in the loop\n",
    "argresult = [] #list to arrange the result in 1048*10\n",
    "for i in omg_m:\n",
    "    for j in lowrs:\n",
    "        def F(x):\n",
    "            return 1/m.sqrt(i*(1+x)**3+(1-i))\n",
    "        result, error = quad(F, 0, j) #Generate 1 integral result for each z-value \n",
    "        colresult.append(result) #1048*10 integral values for each redshift z value\n",
    "argresult = np.array(colresult).reshape([349,K],order='F')\n",
    "# Rearrange such that each row yields 1048 integral-values of each omg_m value (i.e. row[0] is integral value for omg_m = 0.1)\n",
    "proint = argresult.T \n",
    "\n",
    "# Defining distance luminosity \n",
    "dL = []\n",
    "for i in range(K):\n",
    "    for j in range(H):    \n",
    "        dLi = np.multiply(procrs[i],proint[j])\n",
    "        dL.append(dLi)\n",
    "\n",
    "# Defining theoretical distance modulus for each omg_m\n",
    "uth = []\n",
    "for i in range(K*H):\n",
    "    uthi = [5*m.log10(j)+25 for j in dL[i]]\n",
    "    uth.append(uthi)\n",
    "Uth = np.array(uth)\n",
    "\n",
    "# Defining observational distance modulus\n",
    "M = -19.244 #absolute magnitude of Type 1a Supernovae\n",
    "Uobs = np.array([i-M for i in lowmb])\n",
    "\n",
    "# Distance residual vector for each omg_m\n",
    "drv = []\n",
    "for i in range(K*H):\n",
    "    drvi = np.subtract(Uobs,Uth[i])\n",
    "    drv.append(drvi)\n",
    "    \n",
    "Lchidict = {}\n",
    "# Obtaining chi2 value at each omg_m\n",
    "Lchi2 = []\n",
    "for i in range(K*H):\n",
    "    cdrv = np.dot(invlow,drv[i])\n",
    "    Lchi2i = np.dot(drv[i].T,cdrv)\n",
    "    Lchi2.append(Lchi2i)\n",
    "    Lchidict[Lchi2[i]] = i\n",
    "\n",
    "print('The minimum chi2 value is ',min(Lchidict.keys()))\n",
    "print('The ith value for minimum chi2 is ',Lchidict[min(Lchidict.keys())])\n",
    "print('The H0 value for minimum chi2 is ',H0[int(Lchidict[min(Lchidict.keys())]/K)])\n",
    "print('The omg_m value for minimum chi2 is ',omg_m[Lchidict[min(Lchidict.keys())]-int(Lchidict[min(Lchidict.keys())]/K)*K])"
   ]
  },
  {
   "cell_type": "code",
   "execution_count": 31,
   "metadata": {},
   "outputs": [
    {
     "data": {
      "image/png": "[encoded data removed]",
      "text/plain": [
       "<Figure size 432x288 with 2 Axes>"
      ]
     },
     "metadata": {
      "needs_background": "light"
     },
     "output_type": "display_data"
    }
   ],
   "source": [
    "# Creating chi2 contours\n",
    "\n",
    "Lchi = np.array(Lchi2).reshape(100,100)\n",
    "om, h0 = np.meshgrid(omg_m, H0)\n",
    "\n",
    "fig,ax=plt.subplots(1,1)\n",
    "cp = ax.contourf(om, h0, Lchi,levels=[300,354.32,358.41]) #+2.31; 6.4\n",
    "fig.colorbar(cp)\n",
    "ax.set_title('Constraints on H0 and omega m')\n",
    "ax.set_xlabel('Omega m')\n",
    "ax.set_ylabel('Hubble constant (m/s/Mpc)')\n",
    "\n",
    "#plt.xlim([0,1])\n",
    "#plt.ylim([65000,80000])\n",
    "plt.show()"
   ]
  },
  {
   "cell_type": "code",
   "execution_count": 32,
   "metadata": {},
   "outputs": [
    {
     "name": "stdout",
     "output_type": "stream",
     "text": [
      "Number of omg_m data points:100\n",
      "Number of H_0 data points:100\n",
      "The minimum chi2 value is  356.2247981172371\n",
      "The ith value for minimum chi2 is  6532\n",
      "The H0 value for minimum chi2 is  73131.31313131313\n",
      "The omg_m value for minimum chi2 is  0.32323232323232326\n"
     ]
    }
   ],
   "source": [
    "# Pantheon Data (Med-Z)\n",
    "\n",
    "# Defining constants\n",
    "K = int(input('Number of omg_m data points:'))\n",
    "H = int(input('Number of H_0 data points:'))\n",
    "c = 2.998*10**8 #Speed of light (m/s)\n",
    "H0 = np.linspace(60000,80000,H) #Chosen Hubble constant value (m/s/Mpc)\n",
    "\n",
    "crs = []\n",
    "for i in H0:\n",
    "    for j in medrs:\n",
    "        crsi = c*(1+j)/i \n",
    "        crs.append(crsi)\n",
    "argcrs = np.array(crs).reshape([349,H],order='F')\n",
    "procrs = argcrs.T #Each row correspond to all 1048 redshift data per H0 value\n",
    "\n",
    "omg_m = np.linspace(0,1,K)\n",
    "colresult = [] #List to collect all the values in the loop\n",
    "argresult = [] #list to arrange the result in 1048*10\n",
    "for i in omg_m:\n",
    "    for j in medrs:\n",
    "        def F(x):\n",
    "            return 1/m.sqrt(i*(1+x)**3+(1-i))\n",
    "        result, error = quad(F, 0, j) #Generate 1 integral result for each z-value \n",
    "        colresult.append(result) #1048*10 integral values for each redshift z value\n",
    "argresult = np.array(colresult).reshape([349,K],order='F')\n",
    "# Rearrange such that each row yields 1048 integral-values of each omg_m value (i.e. row[0] is integral value for omg_m = 0.1)\n",
    "proint = argresult.T \n",
    "\n",
    "# Defining distance luminosity \n",
    "dL = []\n",
    "for i in range(K):\n",
    "    for j in range(H):    \n",
    "        dLi = np.multiply(procrs[i],proint[j])\n",
    "        dL.append(dLi)\n",
    "\n",
    "# Defining theoretical distance modulus for each omg_m\n",
    "uth = []\n",
    "for i in range(K*H):\n",
    "    uthi = [5*m.log10(j)+25 for j in dL[i]]\n",
    "    uth.append(uthi)\n",
    "Uth = np.array(uth)\n",
    "\n",
    "# Defining observational distance modulus\n",
    "M = -19.244 #absolute magnitude of Type 1a Supernovae\n",
    "Uobs = np.array([i-M for i in medmb])\n",
    "\n",
    "# Distance residual vector for each omg_m\n",
    "drv = []\n",
    "for i in range(K*H):\n",
    "    drvi = np.subtract(Uobs,Uth[i])\n",
    "    drv.append(drvi)\n",
    "    \n",
    "Mchidict = {}\n",
    "# Obtaining chi2 value at each omg_m\n",
    "Mchi2 = []\n",
    "for i in range(K*H):\n",
    "    cdrv = np.dot(invmed,drv[i])\n",
    "    Mchi2i = np.dot(drv[i].T,cdrv)\n",
    "    Mchi2.append(Mchi2i)\n",
    "    Mchidict[Mchi2[i]] = i\n",
    "\n",
    "print('The minimum chi2 value is ',min(Mchidict.keys()))\n",
    "print('The ith value for minimum chi2 is ',Mchidict[min(Mchidict.keys())])\n",
    "print('The H0 value for minimum chi2 is ',H0[int(Mchidict[min(Mchidict.keys())]/K)])\n",
    "print('The omg_m value for minimum chi2 is ',omg_m[Mchidict[min(Mchidict.keys())]-int(Mchidict[min(Mchidict.keys())]/K)*K])"
   ]
  },
  {
   "cell_type": "code",
   "execution_count": 33,
   "metadata": {},
   "outputs": [
    {
     "data": {
      "image/png": "[encoded data removed]",
      "text/plain": [
       "<Figure size 432x288 with 2 Axes>"
      ]
     },
     "metadata": {
      "needs_background": "light"
     },
     "output_type": "display_data"
    }
   ],
   "source": [
    "# Creating chi2 contours\n",
    "\n",
    "Mchi = np.array(Mchi2).reshape(100,100)\n",
    "om, h0 = np.meshgrid(omg_m, H0)\n",
    "\n",
    "fig,ax=plt.subplots(1,1)\n",
    "cp = ax.contourf(om, h0, Mchi,levels=[300,358.53,362.62]) #+2.31; 6.4\n",
    "fig.colorbar(cp)\n",
    "ax.set_title('Constraints on H0 and omega m')\n",
    "ax.set_xlabel('Omega m')\n",
    "ax.set_ylabel('Hubble constant (m/s/Mpc)')\n",
    "\n",
    "#plt.xlim([0,1])\n",
    "#plt.ylim([65000,80000])\n",
    "plt.show()"
   ]
  },
  {
   "cell_type": "code",
   "execution_count": 34,
   "metadata": {},
   "outputs": [
    {
     "name": "stdout",
     "output_type": "stream",
     "text": [
      "Number of omg_m data points:100\n",
      "Number of H_0 data points:100\n",
      "The minimum chi2 value is  317.88084355789573\n",
      "The ith value for minimum chi2 is  6530\n",
      "The H0 value for minimum chi2 is  73131.31313131313\n",
      "The omg_m value for minimum chi2 is  0.30303030303030304\n"
     ]
    }
   ],
   "source": [
    "# Pantheon Data (High-Z)\n",
    "\n",
    "# Defining constants\n",
    "K = int(input('Number of omg_m data points:'))\n",
    "H = int(input('Number of H_0 data points:'))\n",
    "c = 2.998*10**8 #Speed of light (m/s)\n",
    "H0 = np.linspace(60000,80000,H) #Chosen Hubble constant value (m/s/Mpc)\n",
    "\n",
    "crs = []\n",
    "for i in H0:\n",
    "    for j in highrs:\n",
    "        crsi = c*(1+j)/i \n",
    "        crs.append(crsi)\n",
    "argcrs = np.array(crs).reshape([350,H],order='F')\n",
    "procrs = argcrs.T #Each row correspond to all 1048 redshift data per H0 value\n",
    "\n",
    "omg_m = np.linspace(0,1,K)\n",
    "colresult = [] #List to collect all the values in the loop\n",
    "argresult = [] #list to arrange the result in 1048*10\n",
    "for i in omg_m:\n",
    "    for j in highrs:\n",
    "        def F(x):\n",
    "            return 1/m.sqrt(i*(1+x)**3+(1-i))\n",
    "        result, error = quad(F, 0, j) #Generate 1 integral result for each z-value \n",
    "        colresult.append(result) #1048*10 integral values for each redshift z value\n",
    "argresult = np.array(colresult).reshape([350,K],order='F')\n",
    "# Rearrange such that each row yields 1048 integral-values of each omg_m value (i.e. row[0] is integral value for omg_m = 0.1)\n",
    "proint = argresult.T \n",
    "\n",
    "# Defining distance luminosity \n",
    "dL = []\n",
    "for i in range(K):\n",
    "    for j in range(H):    \n",
    "        dLi = np.multiply(procrs[i],proint[j])\n",
    "        dL.append(dLi)\n",
    "\n",
    "# Defining theoretical distance modulus for each omg_m\n",
    "uth = []\n",
    "for i in range(K*H):\n",
    "    uthi = [5*m.log10(j)+25 for j in dL[i]]\n",
    "    uth.append(uthi)\n",
    "Uth = np.array(uth)\n",
    "\n",
    "# Defining observational distance modulus\n",
    "M = -19.244 #absolute magnitude of Type 1a Supernovae\n",
    "Uobs = np.array([i-M for i in highmb])\n",
    "\n",
    "# Distance residual vector for each omg_m\n",
    "drv = []\n",
    "for i in range(K*H):\n",
    "    drvi = np.subtract(Uobs,Uth[i])\n",
    "    drv.append(drvi)\n",
    "    \n",
    "Hchidict = {}\n",
    "# Obtaining chi2 value at each omg_m\n",
    "Hchi2 = []\n",
    "for i in range(K*H):\n",
    "    cdrv = np.dot(invhigh,drv[i])\n",
    "    Hchi2i = np.dot(drv[i].T,cdrv)\n",
    "    Hchi2.append(Hchi2i)\n",
    "    Hchidict[Hchi2[i]] = i\n",
    "\n",
    "print('The minimum chi2 value is ',min(Hchidict.keys()))\n",
    "print('The ith value for minimum chi2 is ',Hchidict[min(Hchidict.keys())])\n",
    "print('The H0 value for minimum chi2 is ',H0[int(Hchidict[min(Hchidict.keys())]/K)])\n",
    "print('The omg_m value for minimum chi2 is ',omg_m[Hchidict[min(Hchidict.keys())]-int(Hchidict[min(Hchidict.keys())]/K)*K])"
   ]
  },
  {
   "cell_type": "code",
   "execution_count": 35,
   "metadata": {},
   "outputs": [
    {
     "data": {
      "image/png": "[encoded data removed]",
      "text/plain": [
       "<Figure size 432x288 with 2 Axes>"
      ]
     },
     "metadata": {
      "needs_background": "light"
     },
     "output_type": "display_data"
    }
   ],
   "source": [
    "# Creating chi2 contours\n",
    "\n",
    "Hchi = np.array(Hchi2).reshape(100,100)\n",
    "om, h0 = np.meshgrid(omg_m, H0)\n",
    "\n",
    "fig,ax=plt.subplots(1,1)\n",
    "cp = ax.contourf(om, h0, Hchi,levels=[300,320.19,324.28]) #+2.31; 6.4\n",
    "fig.colorbar(cp)\n",
    "ax.set_title('Constraints on H0 and omega m')\n",
    "ax.set_xlabel('Omega m')\n",
    "ax.set_ylabel('Hubble constant (m/s/Mpc)')\n",
    "\n",
    "#plt.xlim([0,1])\n",
    "#plt.ylim([65000,80000])\n",
    "plt.show()"
   ]
  },
  {
   "cell_type": "markdown",
   "metadata": {},
   "source": [
    "# Redshift binning (4 bins)"
   ]
  },
  {
   "cell_type": "code",
   "execution_count": 36,
   "metadata": {},
   "outputs": [
    {
     "data": {
      "text/plain": [
       "262"
      ]
     },
     "execution_count": 36,
     "metadata": {},
     "output_type": "execute_result"
    }
   ],
   "source": [
    "lowrs = []\n",
    "lowmb = []\n",
    "lowi = []\n",
    "medrs = []\n",
    "medmb = []\n",
    "medi = []\n",
    "highrs = []\n",
    "highmb = []\n",
    "highi = []\n",
    "maxrs = []\n",
    "maxmb = []\n",
    "maxi = []\n",
    "\n",
    "for i in range(len(rs)):\n",
    "    if (rs[i] <= 0.132):\n",
    "        lowrs.append(rs[i])\n",
    "        lowmb.append(mb[i])\n",
    "        lowi.append(i)\n",
    "    elif (rs[i] > 0.132 and rs[i] <= 0.2485):\n",
    "        medrs.append(rs[i])\n",
    "        medmb.append(mb[i])\n",
    "        medi.append(i)\n",
    "    elif (rs[i] > 0.2485 and rs[i] <= 0.4235):\n",
    "        highrs.append(rs[i])\n",
    "        highmb.append(mb[i])\n",
    "        highi.append(i)\n",
    "    else:\n",
    "        maxrs.append(rs[i])\n",
    "        maxmb.append(mb[i])\n",
    "        maxi.append(i)\n",
    "\n",
    "np.array(lowi).size"
   ]
  },
  {
   "cell_type": "code",
   "execution_count": 39,
   "metadata": {},
   "outputs": [],
   "source": [
    "# Covariance for low redshift\n",
    "lowcov = []\n",
    "for i in range(len(lowi)):\n",
    "    for j in range(len(lowi)):\n",
    "        lowcov.append(C[lowi[i]][lowi[j]])\n",
    "lowC = np.array(lowcov).reshape([262,262],order='F')\n",
    "invlow = np.linalg.inv(lowC)\n",
    "\n",
    "# Covariance for med redshift\n",
    "medcov = []\n",
    "for i in range(len(medi)):\n",
    "    for j in range(len(medi)):\n",
    "        medcov.append(C[medi[i]][medi[j]])\n",
    "medC = np.array(medcov).reshape([262,262],order='F')\n",
    "invmed = np.linalg.inv(medC)\n",
    "\n",
    "# Covariance for high redshift\n",
    "highcov = []\n",
    "for i in range(len(highi)):\n",
    "    for j in range(len(highi)):\n",
    "        highcov.append(C[highi[i]][highi[j]])\n",
    "highC = np.array(highcov).reshape([262,262],order='F')\n",
    "invhigh = np.linalg.inv(highC)\n",
    "\n",
    "# Covariance for highest redshift\n",
    "maxcov = []\n",
    "for i in range(len(maxi)):\n",
    "    for j in range(len(maxi)):\n",
    "        maxcov.append(C[maxi[i]][maxi[j]])\n",
    "maxC = np.array(maxcov).reshape([262,262],order='F')\n",
    "invmax = np.linalg.inv(maxC)"
   ]
  },
  {
   "cell_type": "code",
   "execution_count": 38,
   "metadata": {},
   "outputs": [
    {
     "name": "stdout",
     "output_type": "stream",
     "text": [
      "Number of omg_m data points:100\n",
      "Number of H_0 data points:100\n",
      "The minimum chi2 value is  248.50494703027638\n",
      "The ith value for minimum chi2 is  7205\n",
      "The H0 value for minimum chi2 is  74545.45454545454\n",
      "The omg_m value for minimum chi2 is  0.05050505050505051\n"
     ]
    }
   ],
   "source": [
    "# Pantheon Data (Low-Z)\n",
    "\n",
    "# Defining constants\n",
    "K = int(input('Number of omg_m data points:'))\n",
    "H = int(input('Number of H_0 data points:'))\n",
    "c = 2.998*10**8 #Speed of light (m/s)\n",
    "H0 = np.linspace(60000,80000,H) #Chosen Hubble constant value (m/s/Mpc)\n",
    "\n",
    "crs = []\n",
    "for i in H0:\n",
    "    for j in lowrs:\n",
    "        crsi = c*(1+j)/i \n",
    "        crs.append(crsi)\n",
    "argcrs = np.array(crs).reshape([262,H],order='F')\n",
    "procrs = argcrs.T #Each row correspond to all 1048 redshift data per H0 value\n",
    "\n",
    "omg_m = np.linspace(0,1,K)\n",
    "colresult = [] #List to collect all the values in the loop\n",
    "argresult = [] #list to arrange the result in 1048*10\n",
    "for i in omg_m:\n",
    "    for j in lowrs:\n",
    "        def F(x):\n",
    "            return 1/m.sqrt(i*(1+x)**3+(1-i))\n",
    "        result, error = quad(F, 0, j) #Generate 1 integral result for each z-value \n",
    "        colresult.append(result) #1048*10 integral values for each redshift z value\n",
    "argresult = np.array(colresult).reshape([262,K],order='F')\n",
    "# Rearrange such that each row yields 1048 integral-values of each omg_m value (i.e. row[0] is integral value for omg_m = 0.1)\n",
    "proint = argresult.T \n",
    "\n",
    "# Defining distance luminosity \n",
    "dL = []\n",
    "for i in range(K):\n",
    "    for j in range(H):    \n",
    "        dLi = np.multiply(procrs[i],proint[j])\n",
    "        dL.append(dLi)\n",
    "\n",
    "# Defining theoretical distance modulus for each omg_m\n",
    "uth = []\n",
    "for i in range(K*H):\n",
    "    uthi = [5*m.log10(j)+25 for j in dL[i]]\n",
    "    uth.append(uthi)\n",
    "Uth = np.array(uth)\n",
    "\n",
    "# Defining observational distance modulus\n",
    "M = -19.244 #absolute magnitude of Type 1a Supernovae\n",
    "Uobs = np.array([i-M for i in lowmb])\n",
    "\n",
    "# Distance residual vector for each omg_m\n",
    "drv = []\n",
    "for i in range(K*H):\n",
    "    drvi = np.subtract(Uobs,Uth[i])\n",
    "    drv.append(drvi)\n",
    "    \n",
    "Lchidict = {}\n",
    "# Obtaining chi2 value at each omg_m\n",
    "Lchi2 = []\n",
    "for i in range(K*H):\n",
    "    cdrv = np.dot(invlow,drv[i])\n",
    "    Lchi2i = np.dot(drv[i].T,cdrv)\n",
    "    Lchi2.append(Lchi2i)\n",
    "    Lchidict[Lchi2[i]] = i\n",
    "\n",
    "print('The minimum chi2 value is ',min(Lchidict.keys()))\n",
    "print('The ith value for minimum chi2 is ',Lchidict[min(Lchidict.keys())])\n",
    "print('The H0 value for minimum chi2 is ',H0[int(Lchidict[min(Lchidict.keys())]/K)])\n",
    "print('The omg_m value for minimum chi2 is ',omg_m[Lchidict[min(Lchidict.keys())]-int(Lchidict[min(Lchidict.keys())]/K)*K])"
   ]
  },
  {
   "cell_type": "code",
   "execution_count": 40,
   "metadata": {},
   "outputs": [
    {
     "data": {
      "image/png": "[encoded data removed]",
      "text/plain": [
       "<Figure size 432x288 with 2 Axes>"
      ]
     },
     "metadata": {
      "needs_background": "light"
     },
     "output_type": "display_data"
    }
   ],
   "source": [
    "# Creating chi2 contours\n",
    "\n",
    "Lchi = np.array(Lchi2).reshape(100,100)\n",
    "om, h0 = np.meshgrid(omg_m, H0)\n",
    "\n",
    "fig,ax=plt.subplots(1,1)\n",
    "cp = ax.contourf(om, h0, Lchi,levels=[200,250.81,254.90]) #+2.31; 6.4\n",
    "fig.colorbar(cp)\n",
    "ax.set_title('Constraints on H0 and omega m')\n",
    "ax.set_xlabel('Omega m')\n",
    "ax.set_ylabel('Hubble constant (m/s/Mpc)')\n",
    "\n",
    "#plt.xlim([0,1])\n",
    "#plt.ylim([65000,80000])\n",
    "plt.show()"
   ]
  },
  {
   "cell_type": "code",
   "execution_count": 41,
   "metadata": {},
   "outputs": [
    {
     "name": "stdout",
     "output_type": "stream",
     "text": [
      "Number of omg_m data points:100\n",
      "Number of H_0 data points:100\n",
      "The minimum chi2 value is  287.9353550099813\n",
      "The ith value for minimum chi2 is  5356\n",
      "The H0 value for minimum chi2 is  70707.0707070707\n",
      "The omg_m value for minimum chi2 is  0.5656565656565657\n"
     ]
    }
   ],
   "source": [
    "# Pantheon Data (Med-Z)\n",
    "\n",
    "# Defining constants\n",
    "K = int(input('Number of omg_m data points:'))\n",
    "H = int(input('Number of H_0 data points:'))\n",
    "c = 2.998*10**8 #Speed of light (m/s)\n",
    "H0 = np.linspace(60000,80000,H) #Chosen Hubble constant value (m/s/Mpc)\n",
    "\n",
    "crs = []\n",
    "for i in H0:\n",
    "    for j in medrs:\n",
    "        crsi = c*(1+j)/i \n",
    "        crs.append(crsi)\n",
    "argcrs = np.array(crs).reshape([262,H],order='F')\n",
    "procrs = argcrs.T #Each row correspond to all 1048 redshift data per H0 value\n",
    "\n",
    "omg_m = np.linspace(0,1,K)\n",
    "colresult = [] #List to collect all the values in the loop\n",
    "argresult = [] #list to arrange the result in 1048*10\n",
    "for i in omg_m:\n",
    "    for j in medrs:\n",
    "        def F(x):\n",
    "            return 1/m.sqrt(i*(1+x)**3+(1-i))\n",
    "        result, error = quad(F, 0, j) #Generate 1 integral result for each z-value \n",
    "        colresult.append(result) #1048*10 integral values for each redshift z value\n",
    "argresult = np.array(colresult).reshape([262,K],order='F')\n",
    "# Rearrange such that each row yields 1048 integral-values of each omg_m value (i.e. row[0] is integral value for omg_m = 0.1)\n",
    "proint = argresult.T \n",
    "\n",
    "# Defining distance luminosity \n",
    "dL = []\n",
    "for i in range(K):\n",
    "    for j in range(H):    \n",
    "        dLi = np.multiply(procrs[i],proint[j])\n",
    "        dL.append(dLi)\n",
    "\n",
    "# Defining theoretical distance modulus for each omg_m\n",
    "uth = []\n",
    "for i in range(K*H):\n",
    "    uthi = [5*m.log10(j)+25 for j in dL[i]]\n",
    "    uth.append(uthi)\n",
    "Uth = np.array(uth)\n",
    "\n",
    "# Defining observational distance modulus\n",
    "M = -19.244 #absolute magnitude of Type 1a Supernovae\n",
    "Uobs = np.array([i-M for i in medmb])\n",
    "\n",
    "# Distance residual vector for each omg_m\n",
    "drv = []\n",
    "for i in range(K*H):\n",
    "    drvi = np.subtract(Uobs,Uth[i])\n",
    "    drv.append(drvi)\n",
    "    \n",
    "Mchidict = {}\n",
    "# Obtaining chi2 value at each omg_m\n",
    "Mchi2 = []\n",
    "for i in range(K*H):\n",
    "    cdrv = np.dot(invmed,drv[i])\n",
    "    Mchi2i = np.dot(drv[i].T,cdrv)\n",
    "    Mchi2.append(Mchi2i)\n",
    "    Mchidict[Mchi2[i]] = i\n",
    "\n",
    "print('The minimum chi2 value is ',min(Mchidict.keys()))\n",
    "print('The ith value for minimum chi2 is ',Mchidict[min(Mchidict.keys())])\n",
    "print('The H0 value for minimum chi2 is ',H0[int(Mchidict[min(Mchidict.keys())]/K)])\n",
    "print('The omg_m value for minimum chi2 is ',omg_m[Mchidict[min(Mchidict.keys())]-int(Mchidict[min(Mchidict.keys())]/K)*K])"
   ]
  },
  {
   "cell_type": "code",
   "execution_count": 42,
   "metadata": {},
   "outputs": [
    {
     "data": {
      "image/png": "[encoded data removed]",
      "text/plain": [
       "<Figure size 432x288 with 2 Axes>"
      ]
     },
     "metadata": {
      "needs_background": "light"
     },
     "output_type": "display_data"
    }
   ],
   "source": [
    "# Creating chi2 contours\n",
    "\n",
    "Mchi = np.array(Mchi2).reshape(100,100)\n",
    "om, h0 = np.meshgrid(omg_m, H0)\n",
    "\n",
    "fig,ax=plt.subplots(1,1)\n",
    "cp = ax.contourf(om, h0, Mchi,levels=[200,290.25,294.34]) #+2.31; 6.4\n",
    "fig.colorbar(cp)\n",
    "ax.set_title('Constraints on H0 and omega m')\n",
    "ax.set_xlabel('Omega m')\n",
    "ax.set_ylabel('Hubble constant (m/s/Mpc)')\n",
    "\n",
    "#plt.xlim([0,1])\n",
    "#plt.ylim([65000,80000])\n",
    "plt.show()"
   ]
  },
  {
   "cell_type": "code",
   "execution_count": 43,
   "metadata": {},
   "outputs": [
    {
     "name": "stdout",
     "output_type": "stream",
     "text": [
      "Number of omg_m data points:100\n",
      "Number of H_0 data points:100\n",
      "The minimum chi2 value is  252.18013964765058\n",
      "The ith value for minimum chi2 is  7718\n",
      "The H0 value for minimum chi2 is  75555.55555555556\n",
      "The omg_m value for minimum chi2 is  0.18181818181818182\n"
     ]
    }
   ],
   "source": [
    "# Pantheon Data (High-Z)\n",
    "\n",
    "# Defining constants\n",
    "K = int(input('Number of omg_m data points:'))\n",
    "H = int(input('Number of H_0 data points:'))\n",
    "c = 2.998*10**8 #Speed of light (m/s)\n",
    "H0 = np.linspace(60000,80000,H) #Chosen Hubble constant value (m/s/Mpc)\n",
    "\n",
    "crs = []\n",
    "for i in H0:\n",
    "    for j in highrs:\n",
    "        crsi = c*(1+j)/i \n",
    "        crs.append(crsi)\n",
    "argcrs = np.array(crs).reshape([262,H],order='F')\n",
    "procrs = argcrs.T #Each row correspond to all 1048 redshift data per H0 value\n",
    "\n",
    "omg_m = np.linspace(0,1,K)\n",
    "colresult = [] #List to collect all the values in the loop\n",
    "argresult = [] #list to arrange the result in 1048*10\n",
    "for i in omg_m:\n",
    "    for j in highrs:\n",
    "        def F(x):\n",
    "            return 1/m.sqrt(i*(1+x)**3+(1-i))\n",
    "        result, error = quad(F, 0, j) #Generate 1 integral result for each z-value \n",
    "        colresult.append(result) #1048*10 integral values for each redshift z value\n",
    "argresult = np.array(colresult).reshape([262,K],order='F')\n",
    "# Rearrange such that each row yields 1048 integral-values of each omg_m value (i.e. row[0] is integral value for omg_m = 0.1)\n",
    "proint = argresult.T \n",
    "\n",
    "# Defining distance luminosity \n",
    "dL = []\n",
    "for i in range(K):\n",
    "    for j in range(H):    \n",
    "        dLi = np.multiply(procrs[i],proint[j])\n",
    "        dL.append(dLi)\n",
    "\n",
    "# Defining theoretical distance modulus for each omg_m\n",
    "uth = []\n",
    "for i in range(K*H):\n",
    "    uthi = [5*m.log10(j)+25 for j in dL[i]]\n",
    "    uth.append(uthi)\n",
    "Uth = np.array(uth)\n",
    "\n",
    "# Defining observational distance modulus\n",
    "M = -19.244 #absolute magnitude of Type 1a Supernovae\n",
    "Uobs = np.array([i-M for i in highmb])\n",
    "\n",
    "# Distance residual vector for each omg_m\n",
    "drv = []\n",
    "for i in range(K*H):\n",
    "    drvi = np.subtract(Uobs,Uth[i])\n",
    "    drv.append(drvi)\n",
    "    \n",
    "Hchidict = {}\n",
    "# Obtaining chi2 value at each omg_m\n",
    "Hchi2 = []\n",
    "for i in range(K*H):\n",
    "    cdrv = np.dot(invhigh,drv[i])\n",
    "    Hchi2i = np.dot(drv[i].T,cdrv)\n",
    "    Hchi2.append(Hchi2i)\n",
    "    Hchidict[Hchi2[i]] = i\n",
    "\n",
    "print('The minimum chi2 value is ',min(Hchidict.keys()))\n",
    "print('The ith value for minimum chi2 is ',Hchidict[min(Hchidict.keys())])\n",
    "print('The H0 value for minimum chi2 is ',H0[int(Hchidict[min(Hchidict.keys())]/K)])\n",
    "print('The omg_m value for minimum chi2 is ',omg_m[Hchidict[min(Hchidict.keys())]-int(Hchidict[min(Hchidict.keys())]/K)*K])"
   ]
  },
  {
   "cell_type": "code",
   "execution_count": 44,
   "metadata": {},
   "outputs": [
    {
     "data": {
      "image/png": "[encoded data removed]",
      "text/plain": [
       "<Figure size 432x288 with 2 Axes>"
      ]
     },
     "metadata": {
      "needs_background": "light"
     },
     "output_type": "display_data"
    }
   ],
   "source": [
    "# Creating chi2 contours\n",
    "\n",
    "Hchi = np.array(Hchi2).reshape(100,100)\n",
    "om, h0 = np.meshgrid(omg_m, H0)\n",
    "\n",
    "fig,ax=plt.subplots(1,1)\n",
    "cp = ax.contourf(om, h0, Hchi,levels=[200,254.49,258.58]) #+2.31; 6.4\n",
    "fig.colorbar(cp)\n",
    "ax.set_title('Constraints on H0 and omega m')\n",
    "ax.set_xlabel('Omega m')\n",
    "ax.set_ylabel('Hubble constant (m/s/Mpc)')\n",
    "\n",
    "#plt.xlim([0,1])\n",
    "#plt.ylim([65000,80000])\n",
    "plt.show()"
   ]
  },
  {
   "cell_type": "code",
   "execution_count": 45,
   "metadata": {},
   "outputs": [
    {
     "name": "stdout",
     "output_type": "stream",
     "text": [
      "Number of omg_m data points:100\n",
      "Number of H_0 data points:100\n",
      "The minimum chi2 value is  232.18974113561066\n",
      "The ith value for minimum chi2 is  6033\n",
      "The H0 value for minimum chi2 is  72121.21212121213\n",
      "The omg_m value for minimum chi2 is  0.33333333333333337\n"
     ]
    }
   ],
   "source": [
    "# Pantheon Data (Max-Z)\n",
    "\n",
    "# Defining constants\n",
    "K = int(input('Number of omg_m data points:'))\n",
    "H = int(input('Number of H_0 data points:'))\n",
    "c = 2.998*10**8 #Speed of light (m/s)\n",
    "H0 = np.linspace(60000,80000,H) #Chosen Hubble constant value (m/s/Mpc)\n",
    "\n",
    "crs = []\n",
    "for i in H0:\n",
    "    for j in maxrs:\n",
    "        crsi = c*(1+j)/i \n",
    "        crs.append(crsi)\n",
    "argcrs = np.array(crs).reshape([262,H],order='F')\n",
    "procrs = argcrs.T #Each row correspond to all 1048 redshift data per H0 value\n",
    "\n",
    "omg_m = np.linspace(0,1,K)\n",
    "colresult = [] #List to collect all the values in the loop\n",
    "argresult = [] #list to arrange the result in 1048*10\n",
    "for i in omg_m:\n",
    "    for j in maxrs:\n",
    "        def F(x):\n",
    "            return 1/m.sqrt(i*(1+x)**3+(1-i))\n",
    "        result, error = quad(F, 0, j) #Generate 1 integral result for each z-value \n",
    "        colresult.append(result) #1048*10 integral values for each redshift z value\n",
    "argresult = np.array(colresult).reshape([262,K],order='F')\n",
    "# Rearrange such that each row yields 1048 integral-values of each omg_m value (i.e. row[0] is integral value for omg_m = 0.1)\n",
    "proint = argresult.T \n",
    "\n",
    "# Defining distance luminosity \n",
    "dL = []\n",
    "for i in range(K):\n",
    "    for j in range(H):    \n",
    "        dLi = np.multiply(procrs[i],proint[j])\n",
    "        dL.append(dLi)\n",
    "\n",
    "# Defining theoretical distance modulus for each omg_m\n",
    "uth = []\n",
    "for i in range(K*H):\n",
    "    uthi = [5*m.log10(j)+25 for j in dL[i]]\n",
    "    uth.append(uthi)\n",
    "Uth = np.array(uth)\n",
    "\n",
    "# Defining observational distance modulus\n",
    "M = -19.244 #absolute magnitude of Type 1a Supernovae\n",
    "Uobs = np.array([i-M for i in maxmb])\n",
    "\n",
    "# Distance residual vector for each omg_m\n",
    "drv = []\n",
    "for i in range(K*H):\n",
    "    drvi = np.subtract(Uobs,Uth[i])\n",
    "    drv.append(drvi)\n",
    "    \n",
    "MXchidict = {}\n",
    "# Obtaining chi2 value at each omg_m\n",
    "MXchi2 = []\n",
    "for i in range(K*H):\n",
    "    cdrv = np.dot(invmax,drv[i])\n",
    "    MXchi2i = np.dot(drv[i].T,cdrv)\n",
    "    MXchi2.append(MXchi2i)\n",
    "    MXchidict[MXchi2[i]] = i\n",
    "\n",
    "print('The minimum chi2 value is ',min(MXchidict.keys()))\n",
    "print('The ith value for minimum chi2 is ',MXchidict[min(MXchidict.keys())])\n",
    "print('The H0 value for minimum chi2 is ',H0[int(MXchidict[min(MXchidict.keys())]/K)])\n",
    "print('The omg_m value for minimum chi2 is ',omg_m[MXchidict[min(MXchidict.keys())]-int(MXchidict[min(MXchidict.keys())]/K)*K])"
   ]
  },
  {
   "cell_type": "code",
   "execution_count": 46,
   "metadata": {},
   "outputs": [
    {
     "data": {
      "image/png": "[encoded data removed]",
      "text/plain": [
       "<Figure size 432x288 with 2 Axes>"
      ]
     },
     "metadata": {
      "needs_background": "light"
     },
     "output_type": "display_data"
    }
   ],
   "source": [
    "# Creating chi2 contours\n",
    "\n",
    "MXchi = np.array(MXchi2).reshape(100,100)\n",
    "om, h0 = np.meshgrid(omg_m, H0)\n",
    "\n",
    "fig,ax=plt.subplots(1,1)\n",
    "cp = ax.contourf(om, h0, MXchi,levels=[200,234.5,238.59]) #+2.31; 6.4\n",
    "fig.colorbar(cp)\n",
    "ax.set_title('Constraints on H0 and omega m')\n",
    "ax.set_xlabel('Omega m')\n",
    "ax.set_ylabel('Hubble constant (m/s/Mpc)')\n",
    "\n",
    "#plt.xlim([0,1])\n",
    "#plt.ylim([65000,80000])\n",
    "plt.show()"
   ]
  },
  {
   "cell_type": "markdown",
   "metadata": {},
   "source": []
  }
 ],
 "metadata": {
  "kernelspec": {
   "display_name": "Python 3",
   "language": "python",
   "name": "python3"
  },
  "language_info": {
   "codemirror_mode": {
    "name": "ipython",
    "version": 3
   },
   "file_extension": ".py",
   "mimetype": "text/x-python",
   "name": "python",
   "nbconvert_exporter": "python",
   "pygments_lexer": "ipython3",
   "version": "3.8.5"
  }
 },
 "nbformat": 4,
 "nbformat_minor": 4
}
